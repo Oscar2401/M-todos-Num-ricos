{
 "cells": [
  {
   "cell_type": "code",
   "execution_count": 29,
   "metadata": {},
   "outputs": [],
   "source": [
    "import numpy as np\n",
    "import matplotlib.pyplot as plt\n",
    "import math\n",
    "import pylab\n",
    "import scipy.misc as sci"
   ]
  },
  {
   "cell_type": "code",
   "execution_count": 30,
   "metadata": {},
   "outputs": [],
   "source": [
    "def Hermit_interp(x,x_i,y_i,dy_i):\n",
    "    \n",
    "    #Obtenemos los coeficientes L_{n,j}\n",
    "    L = []\n",
    "    a = []\n",
    "    for k in range(len(x_i)):\n",
    "        numer = np.ones(len(x))\n",
    "        denom = np.ones(len(x))\n",
    "        for i in range(len(x_i)):\n",
    "            if i != k:\n",
    "                a = x - x_i[i]\n",
    "                numer = a*numer \n",
    "                b = x_i[k] - x_i[i]\n",
    "                denom = b*denom   \n",
    "        L.append(np.divide(numer,denom))\n",
    "    H = (1-2*(x-)) \n",
    "    \n",
    "    \n",
    "    \n",
    "    ac = np.zeros(len(L[0]))\n",
    "    for k in range(len(y_i)):\n",
    "        ac = ac + L[k]*y_i[k]\n",
    "    return ac"
   ]
  },
  {
   "cell_type": "code",
   "execution_count": 31,
   "metadata": {},
   "outputs": [],
   "source": [
    "data = np.loadtxt('cmb_derivada.txt').T"
   ]
  },
  {
   "cell_type": "code",
   "execution_count": null,
   "metadata": {},
   "outputs": [],
   "source": []
  }
 ],
 "metadata": {
  "kernelspec": {
   "display_name": "Python 3",
   "language": "python",
   "name": "python3"
  },
  "language_info": {
   "codemirror_mode": {
    "name": "ipython",
    "version": 3
   },
   "file_extension": ".py",
   "mimetype": "text/x-python",
   "name": "python",
   "nbconvert_exporter": "python",
   "pygments_lexer": "ipython3",
   "version": "3.7.0"
  }
 },
 "nbformat": 4,
 "nbformat_minor": 2
}
