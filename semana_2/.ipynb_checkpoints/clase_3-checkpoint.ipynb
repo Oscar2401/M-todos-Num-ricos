{
 "cells": [
  {
   "cell_type": "code",
   "execution_count": 1,
   "metadata": {},
   "outputs": [],
   "source": [
    "import numpy as np\n",
    "import matplotlib.pyplot as plt\n",
    "import math\n",
    "import pylab\n",
    "import scipy.misc as sci"
   ]
  },
  {
   "cell_type": "code",
   "execution_count": 2,
   "metadata": {},
   "outputs": [],
   "source": [
    "def L_nj(x,x_i):\n",
    "    L = []\n",
    "    for n in range(len(x_i)):\n",
    "        numer = np.ones(len(x))\n",
    "        denom = np.ones(len(x))\n",
    "        for i in range(len(x_i)):\n",
    "            if i != n:\n",
    "                a = x - x_i[i]\n",
    "                numer = a*numer \n",
    "                b = x_i[n] - x_i[i]\n",
    "                denom = b*denom   \n",
    "        L.append(np.divide(numer,denom))\n",
    "    return L"
   ]
  },
  {
   "cell_type": "code",
   "execution_count": 3,
   "metadata": {},
   "outputs": [],
   "source": [
    "def L(u):\n",
    "    global x_i\n",
    "    global x\n",
    "    numer = np.ones(len(x))\n",
    "    denom = np.ones(len(x))\n",
    "    for i in range(len(x_i)):\n",
    "        if pt != x_i[i]:\n",
    "            a = u - x_i[i]\n",
    "            numer = a*numer \n",
    "            b = pt - x_i[i]\n",
    "            denom = b*denom   \n",
    "    return np.divide(numer,denom)"
   ]
  },
  {
   "cell_type": "code",
   "execution_count": 4,
   "metadata": {},
   "outputs": [],
   "source": [
    "def dL(x,x_i):\n",
    "    dL = []\n",
    "    for k in range(len(x_i)):\n",
    "        global pt\n",
    "        pt = x_i[k]\n",
    "        dL.append(sci.derivative(L,x_i[k],dx = 1e-15))\n",
    "    return dL"
   ]
  },
  {
   "cell_type": "code",
   "execution_count": 5,
   "metadata": {},
   "outputs": [],
   "source": [
    "def Hermit_interp(x,x_i,y_i,dy_i):\n",
    "    \n",
    "    H = []\n",
    "    H_hat = []\n",
    "    Lag = L_nj(x,x_i)\n",
    "    dLag = dL(x,x_i)\n",
    "    \n",
    "    for j in range(len(x_i)):\n",
    "        H.append((1-(2*(x-x_i[j])*dLag[j]))*np.power(Lag[j],2))\n",
    "        H_hat.append((x-x_i[j])*np.power(Lag[j],2))\n",
    "    \n",
    "    ac = np.zeros(len(H[0]))\n",
    "    for l in range(len(y_i)):\n",
    "        ac = ac + H[l]*y_i[l] + H_hat[l]*dy_i[l]\n",
    "    return ac\n",
    "\n"
   ]
  },
  {
   "cell_type": "code",
   "execution_count": 6,
   "metadata": {},
   "outputs": [],
   "source": [
    "data = np.loadtxt('cmb_derivada.txt').T"
   ]
  },
  {
   "cell_type": "code",
   "execution_count": 7,
   "metadata": {},
   "outputs": [
    {
     "data": {
      "image/png": "[encoded data removed]",
      "text/plain": [
       "<Figure size 720x360 with 1 Axes>"
      ]
     },
     "metadata": {},
     "output_type": "display_data"
    }
   ],
   "source": [
    "x_i = data[0]\n",
    "y_i = data[1]\n",
    "dy_i = data[2]\n",
    "\n",
    "#x_i = [1.3,1.6,1.9]\n",
    "#y_i = [0.6200860,0.4554022,0.2818186]\n",
    "#dy_i = [-0.5220232,-0.5698959,-0.5811571]\n",
    "\n",
    "x = np.linspace(np.min(x_i),np.max(x_i),1000)\n",
    "P = Hermit_interp(x,x_i,y_i,dy_i)\n",
    "\n",
    "plt.figure(figsize=(10,5))\n",
    "plt.plot(x_i,y_i,'ro',label='Datos')\n",
    "plt.plot(x,P,'k-' , label='Polinomio')\n",
    "\n",
    "plt.xlabel(\"x\",fontsize=18)\n",
    "plt.ylabel(\"f(x)\",fontsize=18)\n",
    "plt.legend(loc='upper right', shadow=True, fontsize='x-large')\n",
    "#plt.xlim(0.00004,0.00010)\n",
    "plt.ylim(-0.0000000000001,0.000000000001)\n",
    "pylab.savefig('cmb_graf')\n",
    "plt.show()"
   ]
  },
  {
   "cell_type": "code",
   "execution_count": null,
   "metadata": {},
   "outputs": [],
   "source": []
  },
  {
   "cell_type": "code",
   "execution_count": null,
   "metadata": {},
   "outputs": [],
   "source": []
  }
 ],
 "metadata": {
  "kernelspec": {
   "display_name": "Python 3",
   "language": "python",
   "name": "python3"
  },
  "language_info": {
   "codemirror_mode": {
    "name": "ipython",
    "version": 3
   },
   "file_extension": ".py",
   "mimetype": "text/x-python",
   "name": "python",
   "nbconvert_exporter": "python",
   "pygments_lexer": "ipython3",
   "version": "3.6.8"
  }
 },
 "nbformat": 4,
 "nbformat_minor": 2
}
