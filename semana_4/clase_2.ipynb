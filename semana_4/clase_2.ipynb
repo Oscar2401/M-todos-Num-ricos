{
 "cells": [
  {
   "cell_type": "markdown",
   "metadata": {},
   "source": [
    "# Integración Numértica"
   ]
  },
  {
   "cell_type": "code",
   "execution_count": 2,
   "metadata": {},
   "outputs": [],
   "source": [
    "import numpy as np\n",
    "import matplotlib.pyplot as plt\n",
    "import math\n",
    "import pylab as pl \n",
    "import scipy.misc as sci"
   ]
  },
  {
   "cell_type": "code",
   "execution_count": 3,
   "metadata": {},
   "outputs": [],
   "source": [
    "def trapecio(y,x):\n",
    "    n = len(x)\n",
    "    a = np.min(x)\n",
    "    b = np.max(x)\n",
    "    h = b-a\n",
    "    return (y[0]+y[n-1])*h/2 "
   ]
  },
  {
   "cell_type": "code",
   "execution_count": 4,
   "metadata": {},
   "outputs": [],
   "source": [
    "def simpson(y,x):\n",
    "    pres = 2\n",
    "    n = len(x)\n",
    "    a = np.min(x)\n",
    "    b = np.max(x)\n",
    "    h = (b-a)/2\n",
    "    x_1 = round(a + h,pres)\n",
    "    return(y[0]+y[n-1]+(4*y[np.where(np.round(x,pres)==x_1)[0][0]]))*h/3"
   ]
  },
  {
   "cell_type": "code",
   "execution_count": 6,
   "metadata": {},
   "outputs": [
    {
     "name": "stdout",
     "output_type": "stream",
     "text": [
      "['Trapecio', 'Simpson', 'Trapecio Python'] \n",
      "\n",
      "[160.0, 149.2692799573013, 149.33334402136538] \n",
      "\n",
      "[8704.0, 6352.723028822144, 6348.802394119143] \n",
      "\n",
      "[0.6222222222222222, 0.588468772019051, 0.5877867018483995] \n",
      "\n",
      "[24.37072674783242, 24.33900965353099, 24.343699638263132] \n",
      "\n",
      "[0.46511150263090717, -0.5951953652585981, -0.5081429081729494] \n",
      "\n"
     ]
    }
   ],
   "source": [
    "a = 4\n",
    "b = 8\n",
    "x = np.linspace(a,b,1000)\n",
    "#funciones:\n",
    "func = [np.power(x,2),np.power(x,4), np.divide(1,1+x),np.sqrt(1+np.power(x,2)),np.sin(x),np.exp(x)]\n",
    "integrales = [['Trapecio','Simpson','Trapecio Python']]\n",
    "for i in range(len(func)):\n",
    "    a = 0\n",
    "    b = 0\n",
    "    c = 0\n",
    "    p = []\n",
    "    a = trapecio(func[i],x)\n",
    "    b = simpson(func[i],x)\n",
    "    c = np.trapz(func[i],x)\n",
    "    p = [a,b,c] \n",
    "    integrales.append(p)\n",
    "for i in range(len(func)):\n",
    "    print(integrales[i],'\\n')"
   ]
  },
  {
   "cell_type": "code",
   "execution_count": 7,
   "metadata": {},
   "outputs": [
    {
     "name": "stdout",
     "output_type": "stream",
     "text": [
      "53.44690967999348\n"
     ]
    }
   ],
   "source": [
    "x_1 = np.linspace(0,1,10000)\n",
    "x_2 = np.linspace(1,2,10000)\n",
    "x_3 = np.linspace(2,3,10000)\n",
    "x_4 = np.linspace(3,4,10000)\n",
    "\n",
    "y_1 = np.exp(x_1)\n",
    "y_2 = np.exp(x_2)\n",
    "y_3 = np.exp(x_3)\n",
    "y_4 = np.exp(x_4)\n",
    "\n",
    "x = [x_1,x_2,x_3,x_4]\n",
    "y = [y_1,y_2,y_3,y_4]\n",
    "\n",
    "integral = 0\n",
    "for i in range(4):\n",
    "    integral = integral + simpson(y[i],x[i])\n",
    "print(integral)"
   ]
  },
  {
   "cell_type": "code",
   "execution_count": 8,
   "metadata": {},
   "outputs": [
    {
     "name": "stdout",
     "output_type": "stream",
     "text": [
      "0.0028226753884741385\n"
     ]
    }
   ],
   "source": [
    "eps = abs(1-(integral/53.5982)) \n",
    "print(eps)"
   ]
  },
  {
   "cell_type": "markdown",
   "metadata": {},
   "source": [
    "# REGLAS COMPUESTAS"
   ]
  },
  {
   "cell_type": "code",
   "execution_count": 9,
   "metadata": {},
   "outputs": [],
   "source": [
    "def trapecio_com (y,x):\n",
    "    n = len(x)\n",
    "    a = np.min(x)\n",
    "    b = np.max(x)\n",
    "    h = (b-a)/n\n",
    "    s_1 = []\n",
    "    for i in range(int(n)-1):\n",
    "        s_1.append(y[i])\n",
    "    return (h/2)*(y[0]+y[n-1] + 2*np.sum(s_1))"
   ]
  },
  {
   "cell_type": "code",
   "execution_count": 11,
   "metadata": {},
   "outputs": [],
   "source": [
    "def simpson_com(y,x):\n",
    "    n = len(x)\n",
    "    a = np.min(x)\n",
    "    b = np.max(x)\n",
    "    h = (b-a)/n\n",
    "    s_1 = []\n",
    "    for i in range((int(n/2))-1):\n",
    "        s_1.append(y[2*i])\n",
    "    s_2 = []\n",
    "    for i in range((int(n/2))):\n",
    "        s_2.append(y[2*i-1])\n",
    "    return (h/3)*(y[0]+y[n-1] + 2*np.sum(s_1) + 4*np.sum(s_2))   "
   ]
  },
  {
   "cell_type": "code",
   "execution_count": 12,
   "metadata": {},
   "outputs": [
    {
     "name": "stdout",
     "output_type": "stream",
     "text": [
      "['trapecio', 'Simpson', 'Trapecio Python'] \n",
      "\n",
      "[0.1052011941273018, 0.10571637213759713, 0.10604428130027088] \n",
      "\n",
      "[3268636.2677559806, 3269837.852925217, 3268963.1040084176] \n",
      "\n"
     ]
    }
   ],
   "source": [
    "a = 4\n",
    "b = 15\n",
    "n = 10000\n",
    "x = np.linspace(a,b,n)\n",
    "\n",
    "func = [np.sin(x),np.exp(x)]\n",
    "\n",
    "integrales = [['trapecio','Simpson','Trapecio Python']]\n",
    "\n",
    "for i in range(len(func)):\n",
    "    a = trapecio_com(func[i],x)\n",
    "    b = simpson_com(func[i],x)\n",
    "    c = np.trapz(func[i],x)\n",
    "    integrales.append([a,b,c])\n",
    "for i in range(len(integrales)):\n",
    "    print(integrales[i],\"\\n\")\n"
   ]
  },
  {
   "cell_type": "code",
   "execution_count": null,
   "metadata": {},
   "outputs": [],
   "source": []
  }
 ],
 "metadata": {
  "kernelspec": {
   "display_name": "Python 3",
   "language": "python",
   "name": "python3"
  },
  "language_info": {
   "codemirror_mode": {
    "name": "ipython",
    "version": 3
   },
   "file_extension": ".py",
   "mimetype": "text/x-python",
   "name": "python",
   "nbconvert_exporter": "python",
   "pygments_lexer": "ipython3",
   "version": "3.6.8"
  }
 },
 "nbformat": 4,
 "nbformat_minor": 2
}
