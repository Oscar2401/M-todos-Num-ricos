{
 "cells": [
  {
   "cell_type": "markdown",
   "metadata": {},
   "source": [
    "# Flujo de fotones"
   ]
  },
  {
   "cell_type": "code",
   "execution_count": 2,
   "metadata": {},
   "outputs": [],
   "source": [
    "import numpy as np\n",
    "import matplotlib.pyplot as plt\n",
    "import math\n",
    "import pylab as pl \n",
    "from scipy.interpolate import interp1d \n",
    "#from astropy.io import fits"
   ]
  },
  {
   "cell_type": "code",
   "execution_count": 3,
   "metadata": {},
   "outputs": [],
   "source": [
    "def trapecio_com (y,x):\n",
    "    n = len(x)\n",
    "    a = np.min(x)\n",
    "    b = np.max(x)\n",
    "    h = (b-a)/n\n",
    "    s_1 = []\n",
    "    for i in range(int(n)-1):\n",
    "        s_1.append(y[i])\n",
    "    return (h/2)*(y[0]+y[n-1] + 2*np.sum(s_1))"
   ]
  },
  {
   "cell_type": "code",
   "execution_count": 4,
   "metadata": {},
   "outputs": [],
   "source": [
    "def simpson_com(y,x):\n",
    "    n = len(x)\n",
    "    a = np.min(x)\n",
    "    b = np.max(x)\n",
    "    h = (b-a)/n\n",
    "    s_1 = []\n",
    "    for i in range((int(n/2))-1):\n",
    "        s_1.append(y[2*i])\n",
    "    s_2 = []\n",
    "    for i in range((int(n/2))):\n",
    "        s_2.append(y[2*i-1])\n",
    "    return (h/3)*(y[0]+y[n-1] + 2*np.sum(s_1) + 4*np.sum(s_2))  "
   ]
  },
  {
   "cell_type": "code",
   "execution_count": 5,
   "metadata": {},
   "outputs": [],
   "source": [
    "theta = np.loadtxt('theta.txt')\n",
    "data_psf = np.loadtxt('psf_theta.txt')\n",
    "datos = np.loadtxt('events.txt').T"
   ]
  },
  {
   "cell_type": "code",
   "execution_count": 6,
   "metadata": {},
   "outputs": [],
   "source": [
    "psf = []\n",
    "for i in range(len(data_psf)):\n",
    "    psf.append(interp1d(theta*math.pi/180,data_psf[i]))"
   ]
  },
  {
   "cell_type": "code",
   "execution_count": 7,
   "metadata": {},
   "outputs": [],
   "source": [
    "a = 0\n",
    "b = 0.2*math.pi/180.0\n",
    "n = 100000\n",
    "x = np.linspace(a,b,n)\n",
    "\n",
    "psf_inte_simp = []\n",
    "for i in range(len(psf)):\n",
    "    psf_inte_simp.append(2*math.pi*simpson_com(psf[i](x),x))\n",
    "\n",
    "flux_simp = np.divide(datos[0],datos[2]-datos[1])*np.divide(1,datos[3])*np.divide(1,psf_inte_simp)\n",
    "\n",
    "psf_inte_trap = []\n",
    "for i in range(len(psf)):\n",
    "    psf_inte_trap.append(2*math.pi*simpson_com(psf[i](x),x))\n",
    "\n",
    "flux_trap = np.divide(datos[0],datos[2]-datos[1])*np.divide(1,datos[3])*np.divide(1,psf_inte_trap)\n",
    "\n",
    "psf_inte_py = []\n",
    "for i in range(len(psf)):\n",
    "    psf_inte_py.append(2*math.pi*np.trapz(psf[i](x),x))\n",
    "\n",
    "flux_py = np.divide(datos[0],datos[2]-datos[1])*np.divide(1,datos[3])*np.divide(1,psf_inte_py)"
   ]
  },
  {
   "cell_type": "code",
   "execution_count": 11,
   "metadata": {},
   "outputs": [
    {
     "data": {
      "text/plain": [
       "<matplotlib.legend.Legend at 0x7f35a96519e8>"
      ]
     },
     "execution_count": 11,
     "metadata": {},
     "output_type": "execute_result"
    },
    {
     "data": {
      "image/png": "[encoded data removed]",
      "text/plain": [
       "<Figure size 720x360 with 1 Axes>"
      ]
     },
     "metadata": {},
     "output_type": "display_data"
    }
   ],
   "source": [
    "plt.figure(figsize=(10,5))\n",
    "plt.plot(psf_inte_simp,flux_simp,'ro', label='Simpson')\n",
    "plt.plot(psf_inte_trap,flux_trap,'b.', label='Trapecio')\n",
    "plt.plot(psf_inte_py,flux_py,'g*', label='Trapecio py')\n",
    "plt.xlabel('PSF(E)',fontsize=18)\n",
    "plt.ylabel('Flux',fontsize=18)\n",
    "plt.legend(loc='upper right', shadow=True, fontsize='x-large')"
   ]
  },
  {
   "cell_type": "code",
   "execution_count": null,
   "metadata": {},
   "outputs": [],
   "source": []
  }
 ],
 "metadata": {
  "kernelspec": {
   "display_name": "Python 3",
   "language": "python",
   "name": "python3"
  },
  "language_info": {
   "codemirror_mode": {
    "name": "ipython",
    "version": 3
   },
   "file_extension": ".py",
   "mimetype": "text/x-python",
   "name": "python",
   "nbconvert_exporter": "python",
   "pygments_lexer": "ipython3",
   "version": "3.7.3"
  }
 },
 "nbformat": 4,
 "nbformat_minor": 2
}
