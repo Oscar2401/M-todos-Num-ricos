{
 "cells": [
  {
   "cell_type": "markdown",
   "metadata": {},
   "source": [
    "# Integración Numértica"
   ]
  },
  {
   "cell_type": "code",
   "execution_count": 41,
   "metadata": {},
   "outputs": [],
   "source": [
    "import numpy as np\n",
    "import matplotlib.pyplot as plt\n",
    "import math\n",
    "import pylab as pl \n",
    "import scipy.misc as sci"
   ]
  },
  {
   "cell_type": "code",
   "execution_count": 82,
   "metadata": {},
   "outputs": [],
   "source": [
    "def trapecio(y,x):\n",
    "    n = len(x)\n",
    "    a = np.min(x)\n",
    "    b = np.max(x)\n",
    "    h = b-a\n",
    "    return (y[0]+y[n-1])*h/2 "
   ]
  },
  {
   "cell_type": "code",
   "execution_count": 100,
   "metadata": {},
   "outputs": [],
   "source": [
    "def simpson_1(y,x):\n",
    "    pres = 2\n",
    "    n = len(x)\n",
    "    a = np.min(x)\n",
    "    b = np.max(x)\n",
    "    h = (b-a)/2\n",
    "    x_1 = round(a + h,pres)\n",
    "    return(y[0]+y[n-1]+(4*y[np.where(np.round(x,pres)==x_1)[0][0]]))*h/3"
   ]
  },
  {
   "cell_type": "markdown",
   "metadata": {},
   "source": [
    "Probamos las dos funciones con la función de python con las siguientes funcioens matemáticas:\n",
    "\n",
    "\\begin{equation}\n",
    "f(x) = x^2\n",
    "\\end{equation}\n",
    "\n",
    "\\begin{equation}\n",
    "f(x) = x^4\n",
    "\\end{equation}\n",
    "\n",
    "\\begin{equation}\n",
    "f(x) = \\frac{1}{1+x}\n",
    "\\end{equation}\n",
    "\n",
    "\\begin{equation}\n",
    "f(x) = \\sqrt{1+x^2}\n",
    "\\end{equation}\n",
    "\n",
    "\\begin{equation}\n",
    "f(x) = \\sin{x}\n",
    "\\end{equation}\n",
    "\n",
    "\\begin{equation}\n",
    "f(x) = e^x\n",
    "\\end{equation}"
   ]
  },
  {
   "cell_type": "code",
   "execution_count": 105,
   "metadata": {},
   "outputs": [
    {
     "name": "stdout",
     "output_type": "stream",
     "text": [
      "['Trapecio', 'Simpson', 'Trapecio Python'] \n",
      "\n",
      "[160.0, 149.2692799573013, 149.33334402136538] \n",
      "\n",
      "[8704.0, 6352.723028822144, 6348.802394119143] \n",
      "\n",
      "[0.6222222222222222, 0.588468772019051, 0.5877867018483995] \n",
      "\n",
      "[24.37072674783242, 24.33900965353099, 24.343699638263132] \n",
      "\n",
      "[0.46511150263090717, -0.5951953652585981, -0.5081429081729494] \n",
      "\n"
     ]
    }
   ],
   "source": [
    "a = 4\n",
    "b = 8\n",
    "x = np.linspace(a,b,1000)\n",
    "#funciones:\n",
    "func = [np.power(x,2),np.power(x,4), np.divide(1,1+x),np.sqrt(1+np.power(x,2)),np.sin(x),np.exp(x)]\n",
    "integrales = [['Trapecio','Simpson','Trapecio Python']]\n",
    "for i in range(len(func)):\n",
    "    a = 0\n",
    "    b = 0\n",
    "    c = 0\n",
    "    p = []\n",
    "    a = trapecio(func[i],x)\n",
    "    b = simpson_1(func[i],x)\n",
    "    c = np.trapz(func[i],x)\n",
    "    p = [a,b,c] \n",
    "    integrales.append(p)\n",
    "for i in range(len(func)):\n",
    "    print(integrales[i],'\\n')\n",
    "        "
   ]
  },
  {
   "cell_type": "code",
   "execution_count": null,
   "metadata": {},
   "outputs": [],
   "source": []
  },
  {
   "cell_type": "code",
   "execution_count": null,
   "metadata": {},
   "outputs": [],
   "source": []
  }
 ],
 "metadata": {
  "kernelspec": {
   "display_name": "Python 3",
   "language": "python",
   "name": "python3"
  },
  "language_info": {
   "codemirror_mode": {
    "name": "ipython",
    "version": 3
   },
   "file_extension": ".py",
   "mimetype": "text/x-python",
   "name": "python",
   "nbconvert_exporter": "python",
   "pygments_lexer": "ipython3",
   "version": "3.6.8"
  }
 },
 "nbformat": 4,
 "nbformat_minor": 2
}
