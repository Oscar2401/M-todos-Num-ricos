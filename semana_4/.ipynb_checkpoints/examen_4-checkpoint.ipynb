{
 "cells": [
  {
   "cell_type": "markdown",
   "metadata": {},
   "source": [
    "# Ecuación de Friedman\n",
    "\n",
    "Integrantes:\n",
    "\n",
    "*De la Cruz Echeveste Oscar \n",
    "\n",
    "*Miranda Bustos Luis Fernando\n",
    "\n",
    "*Obregon Ocampo Fernanda \n",
    "\n",
    "*Liceaga David"
   ]
  },
  {
   "cell_type": "code",
   "execution_count": 1,
   "metadata": {},
   "outputs": [],
   "source": [
    "import numpy as np\n",
    "import matplotlib.pyplot as plt\n",
    "import math\n",
    "import pylab as pl \n",
    "from scipy.interpolate import interp1d "
   ]
  },
  {
   "cell_type": "code",
   "execution_count": 2,
   "metadata": {},
   "outputs": [],
   "source": [
    "def trapecio_com (y,x):\n",
    "    n = len(x)\n",
    "    a = np.min(x)\n",
    "    b = np.max(x)\n",
    "    h = (b-a)/n\n",
    "    s_1 = []\n",
    "    for i in range(int(n)-1):\n",
    "        s_1.append(y[i])\n",
    "    return (h/2)*(y[0]+y[n-1] + 2*np.sum(s_1))"
   ]
  },
  {
   "cell_type": "code",
   "execution_count": 3,
   "metadata": {},
   "outputs": [],
   "source": [
    "def simpson_com(y,x):\n",
    "    n = len(x)\n",
    "    a = np.min(x)\n",
    "    b = np.max(x)\n",
    "    h = (b-a)/n\n",
    "    s_1 = []\n",
    "    for i in range((int(n/2))-1):\n",
    "        s_1.append(y[2*i])\n",
    "    s_2 = []\n",
    "    for i in range((int(n/2))):\n",
    "        s_2.append(y[2*i-1])\n",
    "    return (h/3)*(y[0]+y[n-1] + 2*np.sum(s_1) + 4*np.sum(s_2))  "
   ]
  },
  {
   "cell_type": "code",
   "execution_count": 97,
   "metadata": {},
   "outputs": [],
   "source": [
    "n = 50\n",
    "omg_mo = 0.3\n",
    "omg_ro = 1.e-5\n",
    "omg_d = 0.7\n",
    "G = 6.67e-11\n",
    "ro_0 = 1.e-26\n",
    "H_o = math.sqrt((8*math.pi*G*ro_0)/3)\n",
    "t_1 = 15.9e9\n",
    "a = np.linspace(0.00001,1,n)\n",
    "F_simp = []\n",
    "for i in range(len(a)):\n",
    "    x = np.linspace(a[i],np.max(a),10000)\n",
    "    F_simp.append(simpson_com(np.power(np.divide(1,x**2*np.divide(omg_mo,np.power(x,3))\\\n",
    "                                               + np.divide(omg_ro,np.power(x,4)) + omg_d),1/2),x))\n",
    "t_simp = t_1 - (np.divide(F_simp,H_o)*(1/3600)*(1/24)*(1/365))\n",
    "\n",
    "F_tra = []\n",
    "for i in range(len(a)):\n",
    "    x = np.linspace(a[i],np.max(a),10000)\n",
    "    F_tra.append(trapecio_com(np.power(np.divide(1,x**2*np.divide(omg_mo,np.power(x,3))\\\n",
    "                                                 + np.divide(omg_ro,np.power(x,4)) + omg_d),1/2),x))\n",
    "t_tra = t_1 - (np.divide(F_tra,H_o)*(1/3600)*(1/24)*(1/365))\n",
    "\n",
    "F_py = []\n",
    "for i in range(len(a)):\n",
    "    x = np.linspace(a[i],np.max(a),10000)\n",
    "    F_py.append(np.trapz(np.power(np.divide(1,x**2*np.divide(omg_mo,np.power(x,3)) + \\\n",
    "                                            np.divide(omg_ro,np.power(x,4)) + omg_d),1/2),x))\n",
    "t_py = t_1 - (np.divide(F_py,H_o)*(1/3600)*(1/24)*(1/365))"
   ]
  },
  {
   "cell_type": "code",
   "execution_count": 94,
   "metadata": {},
   "outputs": [
    {
     "data": {
      "text/plain": [
       "<matplotlib.legend.Legend at 0x7ff083914cc0>"
      ]
     },
     "execution_count": 94,
     "metadata": {},
     "output_type": "execute_result"
    },
    {
     "data": {
      "image/png": "[encoded data removed]",
      "text/plain": [
       "<Figure size 360x360 with 1 Axes>"
      ]
     },
     "metadata": {},
     "output_type": "display_data"
    }
   ],
   "source": [
    "plt.figure(figsize=(5,5))\n",
    "plt.plot(t_simp,a,'ro',label='Simpson')\n",
    "plt.plot(t_tra,a,'y_',label='Simpson')\n",
    "plt.plot(t_py,a,'g*',label='Python')\n",
    "plt.xlabel('t',fontsize=18)\n",
    "plt.ylabel('a(t)',fontsize=18)\n",
    "plt.legend(loc='lower right', shadow=True, frameon = False , fontsize='x-large')"
   ]
  },
  {
   "cell_type": "code",
   "execution_count": null,
   "metadata": {},
   "outputs": [],
   "source": []
  }
 ],
 "metadata": {
  "kernelspec": {
   "display_name": "Python 3",
   "language": "python",
   "name": "python3"
  },
  "language_info": {
   "codemirror_mode": {
    "name": "ipython",
    "version": 3
   },
   "file_extension": ".py",
   "mimetype": "text/x-python",
   "name": "python",
   "nbconvert_exporter": "python",
   "pygments_lexer": "ipython3",
   "version": "3.7.3"
  }
 },
 "nbformat": 4,
 "nbformat_minor": 2
}
