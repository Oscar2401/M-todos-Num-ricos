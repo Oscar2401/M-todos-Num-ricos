{
 "cells": [
  {
   "cell_type": "code",
   "execution_count": 1,
   "metadata": {},
   "outputs": [],
   "source": [
    "from random import*\n",
    "from mpl_toolkits import mplot3d\n",
    "import numpy as np\n",
    "from scipy.integrate import trapz,quad\n",
    "import random as rn\n",
    "from sympy import*\n",
    "import matplotlib.pyplot as plt\n",
    "g=symbols(\"g\")\n",
    "x=symbols(\"x\")"
   ]
  },
  {
   "cell_type": "code",
   "execution_count": 6,
   "metadata": {},
   "outputs": [],
   "source": [
    "def c(f,xa,xb,n,dx,ya=None,yb=None):\n",
    "    def fun(j):\n",
    "        return N(f.subs(x,j))\n",
    "    miny=[]\n",
    "    x0=xa\n",
    "    x1=xb\n",
    "    if(ya==None and yb==None):\n",
    "        while(x0<=x1+dx):\n",
    "            miny.append(fun(x0))\n",
    "            x0=x0+dx\n",
    "        ybb=max(miny)\n",
    "        yaa=min(miny)\n",
    "        area=(xb-xa)*(ybb-yaa)\n",
    "        xr=[]\n",
    "        yr=[]\n",
    "        npo=0\n",
    "        npod=0\n",
    "        j=0\n",
    "        xx=0\n",
    "        yy=0\n",
    "        for i in range(1,n):\n",
    "            xx=(rn.uniform(xa,xb))\n",
    "            yy=(rn.uniform(yaa,ybb))\n",
    "            yf=fun(xx)\n",
    "            if(0<=yy<=yf):\n",
    "                npo=npo+1\n",
    "                xr.append(xx)\n",
    "                yr.append(yy)\n",
    "            else:\n",
    "                if(0>=yy>=yf):\n",
    "                    npo=npo-1\n",
    "                    xr.append(xx)\n",
    "                    yr.append(yy)\n",
    "                else:\n",
    "                    pass\n",
    "    else:\n",
    "        while(x0<=x1+dx):\n",
    "            miny.append(fun(x0))\n",
    "            x0=x0+dx\n",
    "        area=(xb-xa)*(yb-ya)\n",
    "        xr=[]\n",
    "        yr=[]\n",
    "        npo=0\n",
    "        npod=0\n",
    "        j=0\n",
    "        xx=0\n",
    "        yy=0\n",
    "        for i in range(1,n):\n",
    "            xx=(rn.uniform(xa,xb))\n",
    "            yy=(rn.uniform(ya,yb))\n",
    "            yf=fun(xx)\n",
    "            if(0<=yy<=yf):\n",
    "                npo=npo+1\n",
    "                xr.append(xx)\n",
    "                yr.append(yy)\n",
    "            else:\n",
    "                if(0>=yy>=yf):\n",
    "                    npo=npo-1\n",
    "                    xr.append(xx)\n",
    "                    yr.append(yy)\n",
    "                else:\n",
    "                    pass          \n",
    "    print(\"area del rectangulo calculada\",area)\n",
    "    integral=npo/n *area\n",
    "    #Ireal=N(integrate(fun(g),(g,xa,xb)))\n",
    "    #perror=abs(((integral-Ireal)/Ireal)*100)\n",
    "    #print(\"Integral analitica:\",Ireal)\n",
    "    print(\"Integral obtenida:\",integral)\n",
    "    #print(\"%error\",perror)\n",
    "    plt.plot(xr,yr,\".\")\n",
    "    print(\"y max.\",max(yr),\"y min.\",min(yr))\n",
    "    print(miny[-1])"
   ]
  },
  {
   "cell_type": "code",
   "execution_count": 3,
   "metadata": {},
   "outputs": [
    {
     "name": "stdout",
     "output_type": "stream",
     "text": [
      "<function <lambda> at 0x0000026860B52C80>\n"
     ]
    },
    {
     "data": {
      "text/plain": [
       "(23.782570504204333, 9.10486825467806e-09)"
      ]
     },
     "execution_count": 3,
     "metadata": {},
     "output_type": "execute_result"
    }
   ],
   "source": [
    "from scipy import integrate\n",
    "x2 = lambda x: np.sinh(x)*np.tanh(x)/np.exp(np.tan(x)**3)\n",
    "print(x2)\n",
    "integrate.quad(x2, 2.2, 4.5)"
   ]
  },
  {
   "cell_type": "code",
   "execution_count": 5,
   "metadata": {},
   "outputs": [
    {
     "name": "stdout",
     "output_type": "stream",
     "text": [
      "area del rectangulo calculada 3.50836387933952\n"
     ]
    },
    {
     "ename": "TypeError",
     "evalue": "'module' object is not callable",
     "output_type": "error",
     "traceback": [
      "\u001b[1;31m---------------------------------------------------------------------------\u001b[0m",
      "\u001b[1;31mTypeError\u001b[0m                                 Traceback (most recent call last)",
      "\u001b[1;32m<ipython-input-5-7bfb2a3b272b>\u001b[0m in \u001b[0;36m<module>\u001b[1;34m\u001b[0m\n\u001b[1;32m----> 1\u001b[1;33m \u001b[0mc\u001b[0m\u001b[1;33m(\u001b[0m\u001b[0mx\u001b[0m\u001b[1;33m*\u001b[0m\u001b[0mlog\u001b[0m\u001b[1;33m(\u001b[0m\u001b[0mx\u001b[0m\u001b[1;33m)\u001b[0m\u001b[1;33m,\u001b[0m\u001b[1;36m0.00001\u001b[0m\u001b[1;33m,\u001b[0m\u001b[1;36m2.\u001b[0m\u001b[1;33m,\u001b[0m\u001b[1;36m100\u001b[0m\u001b[1;33m,\u001b[0m\u001b[1;36m.001\u001b[0m\u001b[1;33m)\u001b[0m\u001b[1;33m\u001b[0m\u001b[0m\n\u001b[0m",
      "\u001b[1;32m<ipython-input-3-80ceaf324ac7>\u001b[0m in \u001b[0;36mc\u001b[1;34m(f, xa, xb, n, dx, ya, yb)\u001b[0m\n\u001b[0;32m     63\u001b[0m     \u001b[0mprint\u001b[0m\u001b[1;33m(\u001b[0m\u001b[1;34m\"area del rectangulo calculada\"\u001b[0m\u001b[1;33m,\u001b[0m\u001b[0marea\u001b[0m\u001b[1;33m)\u001b[0m\u001b[1;33m\u001b[0m\u001b[0m\n\u001b[0;32m     64\u001b[0m     \u001b[0mintegral\u001b[0m\u001b[1;33m=\u001b[0m\u001b[0mnpo\u001b[0m\u001b[1;33m/\u001b[0m\u001b[0mn\u001b[0m \u001b[1;33m*\u001b[0m\u001b[0marea\u001b[0m\u001b[1;33m\u001b[0m\u001b[0m\n\u001b[1;32m---> 65\u001b[1;33m     \u001b[0mIreal\u001b[0m\u001b[1;33m=\u001b[0m\u001b[0mN\u001b[0m\u001b[1;33m(\u001b[0m\u001b[0mintegrate\u001b[0m\u001b[1;33m(\u001b[0m\u001b[0mfun\u001b[0m\u001b[1;33m(\u001b[0m\u001b[0mg\u001b[0m\u001b[1;33m)\u001b[0m\u001b[1;33m,\u001b[0m\u001b[1;33m(\u001b[0m\u001b[0mg\u001b[0m\u001b[1;33m,\u001b[0m\u001b[0mxa\u001b[0m\u001b[1;33m,\u001b[0m\u001b[0mxb\u001b[0m\u001b[1;33m)\u001b[0m\u001b[1;33m)\u001b[0m\u001b[1;33m)\u001b[0m\u001b[1;33m\u001b[0m\u001b[0m\n\u001b[0m\u001b[0;32m     66\u001b[0m     \u001b[0mperror\u001b[0m\u001b[1;33m=\u001b[0m\u001b[0mabs\u001b[0m\u001b[1;33m(\u001b[0m\u001b[1;33m(\u001b[0m\u001b[1;33m(\u001b[0m\u001b[0mintegral\u001b[0m\u001b[1;33m-\u001b[0m\u001b[0mIreal\u001b[0m\u001b[1;33m)\u001b[0m\u001b[1;33m/\u001b[0m\u001b[0mIreal\u001b[0m\u001b[1;33m)\u001b[0m\u001b[1;33m*\u001b[0m\u001b[1;36m100\u001b[0m\u001b[1;33m)\u001b[0m\u001b[1;33m\u001b[0m\u001b[0m\n\u001b[0;32m     67\u001b[0m     \u001b[0mprint\u001b[0m\u001b[1;33m(\u001b[0m\u001b[1;34m\"Integral analitica:\"\u001b[0m\u001b[1;33m,\u001b[0m\u001b[0mIreal\u001b[0m\u001b[1;33m)\u001b[0m\u001b[1;33m\u001b[0m\u001b[0m\n",
      "\u001b[1;31mTypeError\u001b[0m: 'module' object is not callable"
     ]
    }
   ],
   "source": [
    "c(x*log(x),0.00001,2.,100,.001)"
   ]
  },
  {
   "cell_type": "code",
   "execution_count": 4,
   "metadata": {},
   "outputs": [
    {
     "name": "stdout",
     "output_type": "stream",
     "text": [
      "area del rectangulo calculada 7.0\n"
     ]
    },
    {
     "ename": "TypeError",
     "evalue": "'module' object is not callable",
     "output_type": "error",
     "traceback": [
      "\u001b[1;31m---------------------------------------------------------------------------\u001b[0m",
      "\u001b[1;31mTypeError\u001b[0m                                 Traceback (most recent call last)",
      "\u001b[1;32m<ipython-input-4-18e9cfc6a8ae>\u001b[0m in \u001b[0;36m<module>\u001b[1;34m\u001b[0m\n\u001b[1;32m----> 1\u001b[1;33m \u001b[0mc\u001b[0m\u001b[1;33m(\u001b[0m\u001b[0mlog\u001b[0m\u001b[1;33m(\u001b[0m\u001b[1;36m1\u001b[0m\u001b[1;33m+\u001b[0m\u001b[1;36m3\u001b[0m\u001b[1;33m*\u001b[0m\u001b[0mx\u001b[0m\u001b[1;33m+\u001b[0m\u001b[0mx\u001b[0m\u001b[1;33m**\u001b[0m\u001b[1;36m2\u001b[0m\u001b[1;33m)\u001b[0m\u001b[1;33m/\u001b[0m\u001b[0mx\u001b[0m\u001b[1;33m,\u001b[0m\u001b[1;36m.5\u001b[0m\u001b[1;33m,\u001b[0m\u001b[1;36m4\u001b[0m\u001b[1;33m,\u001b[0m\u001b[1;36m10000\u001b[0m\u001b[1;33m,\u001b[0m\u001b[1;36m.01\u001b[0m\u001b[1;33m,\u001b[0m\u001b[1;36m0\u001b[0m\u001b[1;33m,\u001b[0m\u001b[1;36m2\u001b[0m\u001b[1;33m)\u001b[0m\u001b[1;33m\u001b[0m\u001b[1;33m\u001b[0m\u001b[0m\n\u001b[0m",
      "\u001b[1;32m<ipython-input-2-80ceaf324ac7>\u001b[0m in \u001b[0;36mc\u001b[1;34m(f, xa, xb, n, dx, ya, yb)\u001b[0m\n\u001b[0;32m     63\u001b[0m     \u001b[0mprint\u001b[0m\u001b[1;33m(\u001b[0m\u001b[1;34m\"area del rectangulo calculada\"\u001b[0m\u001b[1;33m,\u001b[0m\u001b[0marea\u001b[0m\u001b[1;33m)\u001b[0m\u001b[1;33m\u001b[0m\u001b[1;33m\u001b[0m\u001b[0m\n\u001b[0;32m     64\u001b[0m     \u001b[0mintegral\u001b[0m\u001b[1;33m=\u001b[0m\u001b[0mnpo\u001b[0m\u001b[1;33m/\u001b[0m\u001b[0mn\u001b[0m \u001b[1;33m*\u001b[0m\u001b[0marea\u001b[0m\u001b[1;33m\u001b[0m\u001b[1;33m\u001b[0m\u001b[0m\n\u001b[1;32m---> 65\u001b[1;33m     \u001b[0mIreal\u001b[0m\u001b[1;33m=\u001b[0m\u001b[0mN\u001b[0m\u001b[1;33m(\u001b[0m\u001b[0mintegrate\u001b[0m\u001b[1;33m(\u001b[0m\u001b[0mfun\u001b[0m\u001b[1;33m(\u001b[0m\u001b[0mg\u001b[0m\u001b[1;33m)\u001b[0m\u001b[1;33m,\u001b[0m\u001b[1;33m(\u001b[0m\u001b[0mg\u001b[0m\u001b[1;33m,\u001b[0m\u001b[0mxa\u001b[0m\u001b[1;33m,\u001b[0m\u001b[0mxb\u001b[0m\u001b[1;33m)\u001b[0m\u001b[1;33m)\u001b[0m\u001b[1;33m)\u001b[0m\u001b[1;33m\u001b[0m\u001b[1;33m\u001b[0m\u001b[0m\n\u001b[0m\u001b[0;32m     66\u001b[0m     \u001b[0mperror\u001b[0m\u001b[1;33m=\u001b[0m\u001b[0mabs\u001b[0m\u001b[1;33m(\u001b[0m\u001b[1;33m(\u001b[0m\u001b[1;33m(\u001b[0m\u001b[0mintegral\u001b[0m\u001b[1;33m-\u001b[0m\u001b[0mIreal\u001b[0m\u001b[1;33m)\u001b[0m\u001b[1;33m/\u001b[0m\u001b[0mIreal\u001b[0m\u001b[1;33m)\u001b[0m\u001b[1;33m*\u001b[0m\u001b[1;36m100\u001b[0m\u001b[1;33m)\u001b[0m\u001b[1;33m\u001b[0m\u001b[1;33m\u001b[0m\u001b[0m\n\u001b[0;32m     67\u001b[0m     \u001b[0mprint\u001b[0m\u001b[1;33m(\u001b[0m\u001b[1;34m\"Integral analitica:\"\u001b[0m\u001b[1;33m,\u001b[0m\u001b[0mIreal\u001b[0m\u001b[1;33m)\u001b[0m\u001b[1;33m\u001b[0m\u001b[1;33m\u001b[0m\u001b[0m\n",
      "\u001b[1;31mTypeError\u001b[0m: 'module' object is not callable"
     ]
    }
   ],
   "source": [
    "c(log(1+3*x+x**2)/x,.5,4,10000,.01,0,2)"
   ]
  },
  {
   "cell_type": "code",
   "execution_count": 37,
   "metadata": {},
   "outputs": [
    {
     "name": "stdout",
     "output_type": "stream",
     "text": [
      "area del rectangulo calculada 95.1260648563562\n",
      "Integral obtenida: 13.7095684670981\n",
      "y max. 56.9013647279862 y min. 5.29603012634346\n",
      "5.29388937043891\n"
     ]
    },
    {
     "data": {
      "image/png": "[encoded data removed]",
      "text/plain": [
       "<Figure size 432x288 with 1 Axes>"
      ]
     },
     "metadata": {
      "needs_background": "light"
     },
     "output_type": "display_data"
    }
   ],
   "source": [
    "c(sinh(x)*tanh(x)/exp(tan(x)**3),2.2,4,100000,.01)"
   ]
  },
  {
   "cell_type": "code",
   "execution_count": 34,
   "metadata": {},
   "outputs": [
    {
     "name": "stdout",
     "output_type": "stream",
     "text": [
      "area del rectangulo calculada 13.9855738489983\n",
      "Integral obtenida: 4.37748461473645\n",
      "y max. 3.33863488451788 y min. 0.00310036584945430\n",
      "3.49639346224956\n"
     ]
    },
    {
     "data": {
      "image/png": "[encoded data removed]",
      "text/plain": [
       "<Figure size 432x288 with 1 Axes>"
      ]
     },
     "metadata": {
      "needs_background": "light"
     },
     "output_type": "display_data"
    }
   ],
   "source": [
    "c(sinh(x)*tanh(x),-2,2,1000,.01)"
   ]
  },
  {
   "cell_type": "code",
   "execution_count": null,
   "metadata": {},
   "outputs": [],
   "source": [
    "c(2/(4+x**2),0,2,10000,.01)"
   ]
  },
  {
   "cell_type": "code",
   "execution_count": null,
   "metadata": {},
   "outputs": [],
   "source": [
    "c(exp(2*x)*sin(3*x),0,2,10000,.01)"
   ]
  },
  {
   "cell_type": "code",
   "execution_count": null,
   "metadata": {},
   "outputs": [],
   "source": [
    "c(1/sqrt(-4+x**2),3,5,10000,.001)"
   ]
  },
  {
   "cell_type": "code",
   "execution_count": 7,
   "metadata": {},
   "outputs": [
    {
     "name": "stdout",
     "output_type": "stream",
     "text": [
      "area del rectangulo calculada 32.7414812796135\n",
      "Integral obtenida: -6.03752914796074\n",
      "y max. 0.507816674626749 y min. -9.73922911072155\n",
      "-9.87216318094903\n"
     ]
    },
    {
     "data": {
      "image/png": "[encoded data removed]",
      "text/plain": [
       "<Figure size 432x288 with 1 Axes>"
      ]
     },
     "metadata": {
      "needs_background": "light"
     },
     "output_type": "display_data"
    }
   ],
   "source": [
    "c(cos(x)*x**2,0,np.pi,10000,.001)"
   ]
  },
  {
   "cell_type": "code",
   "execution_count": null,
   "metadata": {},
   "outputs": [],
   "source": [
    "import math\n",
    "import numpy as np\n",
    "from numpy import sqrt, pi, exp, log, sin, cos\n",
    "from matplotlib import pyplot\n",
    "from mpl_toolkits.mplot3d import Axes3D\n",
    "import random as rn\n",
    "\n",
    "def oo(a,b,ntotal):\n",
    "\n",
    "    xprint=[]\n",
    "    yprint=[]\n",
    "    zprint=[]\n",
    "    wprint=[]\n",
    "    Aprint=[]\n",
    "    Bprint=[]\n",
    "    npoints=0.\n",
    "    area=1\n",
    "    d=2\n",
    "\n",
    "\n",
    "    for i in range (1,ntotal):\n",
    "        x=rn.uniform(a,b)\n",
    "        y=rn.uniform(a,b)\n",
    "        z=rn.uniform(a,b)\n",
    "        w=rn.uniform(a,b)\n",
    "        A=rn.uniform(a,b)\n",
    "        B=rn.uniform(a,b)\n",
    "        C=rn.uniform(a,b)\n",
    "        dis=1.-x**2-y**2-w**2-A**2-B**2-C**2\n",
    "        if dis>0:\n",
    "            zfunct=(1 - x**d - y**d -w**d-A**d-B**d-C**d)**(1./d)\n",
    "            if z<zfunct:\n",
    "                npoints=npoints+1\n",
    "\n",
    "\n",
    "    integral=npoints/ntotal*area\n",
    "    int_analitica=(3.141592**2)/32\n",
    "    print ('El valor calculado en 4D es=', integral)\n",
    "    print ('el valor real es=',int_analitica)\n",
    "    print ('error', (int_analitica-integral)/int_analitica,'%')"
   ]
  },
  {
   "cell_type": "code",
   "execution_count": null,
   "metadata": {},
   "outputs": [],
   "source": [
    "oo(0,1,10000)"
   ]
  },
  {
   "cell_type": "code",
   "execution_count": null,
   "metadata": {},
   "outputs": [],
   "source": []
  }
 ],
 "metadata": {
  "kernelspec": {
   "display_name": "Python 3",
   "language": "python",
   "name": "python3"
  },
  "language_info": {
   "codemirror_mode": {
    "name": "ipython",
    "version": 3
   },
   "file_extension": ".py",
   "mimetype": "text/x-python",
   "name": "python",
   "nbconvert_exporter": "python",
   "pygments_lexer": "ipython3",
   "version": "3.7.3"
  }
 },
 "nbformat": 4,
 "nbformat_minor": 2
}
