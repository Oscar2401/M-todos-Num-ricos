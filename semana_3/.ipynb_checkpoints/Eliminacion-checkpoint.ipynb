{
 "cells": [
  {
   "cell_type": "markdown",
   "metadata": {},
   "source": [
    "# Eliminación gaussiana:\n",
    "\n",
    "#### Resolver un sistema de ecuaciones mediante eliminación gaussiana:"
   ]
  },
  {
   "cell_type": "code",
   "execution_count": 1,
   "metadata": {},
   "outputs": [],
   "source": [
    "import numpy as np\n",
    "import matplotlib.pyplot as plt\n",
    "import math\n",
    "import pylab\n",
    "import scipy.misc as sci"
   ]
  },
  {
   "cell_type": "markdown",
   "metadata": {},
   "source": [
    "Definimos una función para diagonalizar la matriz"
   ]
  },
  {
   "cell_type": "code",
   "execution_count": 2,
   "metadata": {},
   "outputs": [],
   "source": [
    "def diag(a):   \n",
    "    a = np.float32(np.array(a))\n",
    "    for i in range(len(a)):\n",
    "        for j in range(len(a)):\n",
    "            if i < j:\n",
    "                if a[i][i] == 0:\n",
    "                    b = np.copy(a[i])\n",
    "                    c = np.copy(a[j])\n",
    "                    a[i] = c\n",
    "                    a[j] = b\n",
    "                if a[i][i] == 0:\n",
    "                    a[j] = np.zeros(len(a[j]))\n",
    "                    break\n",
    "                a[j] =np.copy(a[j] - ((a[j][i]/a[i][i])*a[i]))\n",
    "    return a"
   ]
  },
  {
   "cell_type": "markdown",
   "metadata": {},
   "source": [
    "Hacemos una funcion que resuelva el sistema de ecuaciones:"
   ]
  },
  {
   "cell_type": "code",
   "execution_count": 57,
   "metadata": {},
   "outputs": [],
   "source": [
    "def solucion(a,b):\n",
    "    a = np.float32(a)\n",
    "    b = np.float32(b)\n",
    "    A = np.append(a,[b],axis=0).T\n",
    "    c = diag(A)\n",
    "    ac = 1\n",
    "    n = len(c)\n",
    "    for i in range(n):\n",
    "        ac = ac*c[i][i]\n",
    "    if ac == 0.:\n",
    "        print('NO HAY SOLUCIÓN!!!')\n",
    "    else:\n",
    "        x = np.zeros(n)\n",
    "        for i in range(n):\n",
    "            ac = 0\n",
    "            for j in range(n):\n",
    "                ac = ac + c[n-1-i][n-1-j]*x[n-1-j]\n",
    "            x[n-1-i] = (c[n-1-i][n]- ac)/c[n-1-i][n-1-i]\n",
    "        return np.float32(x)"
   ]
  },
  {
   "cell_type": "markdown",
   "metadata": {},
   "source": [
    "Resolvemos el sistema de ecuaciones:\n",
    "\n",
    "\\begin{equation}\n",
    "A\\vec{x} = \\vec{b}\n",
    "\\end{equation}\n",
    "\n",
    "#### Construimos la matriz $A$ de la ecuación (aqui modificamos el codigo):"
   ]
  },
  {
   "cell_type": "code",
   "execution_count": 58,
   "metadata": {},
   "outputs": [],
   "source": [
    "A = [[0,1,0,3],[2,1,-1,1],[3,-1,-1,2],[-1,2,3,-1]]"
   ]
  },
  {
   "cell_type": "markdown",
   "metadata": {},
   "source": [
    "#### Construimos el vector $\\vec{b}$ de la ecuación (aqui modificamos el codigo):"
   ]
  },
  {
   "cell_type": "code",
   "execution_count": 59,
   "metadata": {},
   "outputs": [],
   "source": [
    "b = [4,1,-3,4]"
   ]
  },
  {
   "cell_type": "markdown",
   "metadata": {},
   "source": [
    "Obtenemos la soluciones:"
   ]
  },
  {
   "cell_type": "code",
   "execution_count": 66,
   "metadata": {},
   "outputs": [
    {
     "name": "stdout",
     "output_type": "stream",
     "text": [
      "Las soluciones x son:\n",
      "\n",
      "x_ 0 = -0.8125\n",
      "x_ 1 = 1.9375\n",
      "x_ 2 = 0.0\n",
      "x_ 3 = 0.6875\n"
     ]
    }
   ],
   "source": [
    "print('Las soluciones x son:\\n')\n",
    "x = solucion(a,b)\n",
    "for i in range(len(x)):\n",
    "    print('x_',i,'=', x[i])"
   ]
  }
 ],
 "metadata": {
  "kernelspec": {
   "display_name": "Python 3",
   "language": "python",
   "name": "python3"
  },
  "language_info": {
   "codemirror_mode": {
    "name": "ipython",
    "version": 3
   },
   "file_extension": ".py",
   "mimetype": "text/x-python",
   "name": "python",
   "nbconvert_exporter": "python",
   "pygments_lexer": "ipython3",
   "version": "3.7.3"
  }
 },
 "nbformat": 4,
 "nbformat_minor": 2
}
