{
 "cells": [
  {
   "cell_type": "markdown",
   "metadata": {},
   "source": [
    "# Determinante:\n",
    "#### Calcular el determinante mediante diagonalización:"
   ]
  },
  {
   "cell_type": "code",
   "execution_count": 2,
   "metadata": {},
   "outputs": [],
   "source": [
    "import numpy as np\n",
    "import matplotlib.pyplot as plt\n",
    "import math\n",
    "import pylab\n",
    "import scipy.misc as sci"
   ]
  },
  {
   "cell_type": "markdown",
   "metadata": {},
   "source": [
    "Definimos una función que diagonalice una matriz de nxn:"
   ]
  },
  {
   "cell_type": "code",
   "execution_count": 3,
   "metadata": {},
   "outputs": [],
   "source": [
    "def diag(a):   \n",
    "    a = np.float32(np.array(a))\n",
    "    for i in range(len(a)):\n",
    "        for j in range(len(a)):\n",
    "            if i < j:\n",
    "                if a[i][i] == 0:\n",
    "                    b = np.copy(a[i])\n",
    "                    c = np.copy(a[j])\n",
    "                    a[i] = c\n",
    "                    a[j] = b\n",
    "                if a[i][i] == 0:\n",
    "                    a[j] = np.zeros(len(a[j]))\n",
    "                    break\n",
    "                a[j] =np.copy(a[j] - ((a[j][i]/a[i][i])*a[i]))\n",
    "    return a"
   ]
  },
  {
   "cell_type": "code",
   "execution_count": 12,
   "metadata": {},
   "outputs": [],
   "source": [
    "def deter(a):\n",
    "    c = diag(a)\n",
    "    ac = 1\n",
    "    for i in range(len(c)):\n",
    "        ac = ac*c[i][i]\n",
    "    return -ac"
   ]
  },
  {
   "cell_type": "markdown",
   "metadata": {},
   "source": [
    "#### Introducimos la matriz de la que queremos obtener el determinante (Aqui modificamos el código):"
   ]
  },
  {
   "cell_type": "code",
   "execution_count": 16,
   "metadata": {},
   "outputs": [],
   "source": [
    "a = [[0,1,0,3],[2,1,-1,1],[3,-1,-1,2],[-1,2,3,-1]]"
   ]
  },
  {
   "cell_type": "code",
   "execution_count": 17,
   "metadata": {},
   "outputs": [
    {
     "name": "stdout",
     "output_type": "stream",
     "text": [
      "La matriz extendida diagonalizada es:\n",
      "\n",
      "[[  2.    1.   -1.    1. ]\n",
      " [  0.    1.    0.    3. ]\n",
      " [  0.    0.    0.5   8. ]\n",
      " [  0.    0.    0.  -48. ]]\n",
      "\n",
      "El determinante de la matriz es:\n",
      "\n",
      "48.0\n"
     ]
    }
   ],
   "source": [
    "print('La matriz extendida diagonalizada es:\\n')\n",
    "print(diag(a))\n",
    "print('\\nEl determinante de la matriz es:\\n')\n",
    "print(deter(a))"
   ]
  },
  {
   "cell_type": "code",
   "execution_count": null,
   "metadata": {},
   "outputs": [],
   "source": []
  }
 ],
 "metadata": {
  "kernelspec": {
   "display_name": "Python 3",
   "language": "python",
   "name": "python3"
  },
  "language_info": {
   "codemirror_mode": {
    "name": "ipython",
    "version": 3
   },
   "file_extension": ".py",
   "mimetype": "text/x-python",
   "name": "python",
   "nbconvert_exporter": "python",
   "pygments_lexer": "ipython3",
   "version": "3.7.3"
  }
 },
 "nbformat": 4,
 "nbformat_minor": 2
}
