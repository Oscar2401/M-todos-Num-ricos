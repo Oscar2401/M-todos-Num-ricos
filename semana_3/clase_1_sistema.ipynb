{
 "cells": [
  {
   "cell_type": "markdown",
   "metadata": {},
   "source": [
    "# Método directo para resolver sistemas lineales"
   ]
  },
  {
   "cell_type": "code",
   "execution_count": 1,
   "metadata": {},
   "outputs": [],
   "source": [
    "import numpy as np\n",
    "import matplotlib.pyplot as plt\n",
    "import math\n",
    "import pylab\n",
    "import scipy.misc as sci"
   ]
  },
  {
   "cell_type": "code",
   "execution_count": 2,
   "metadata": {},
   "outputs": [],
   "source": [
    "def diag(a):   \n",
    "    a = np.float32(np.array(a))\n",
    "    for i in range(len(a)):\n",
    "        for j in range(len(a)):\n",
    "            if i < j:\n",
    "                if a[i][i] == 0:\n",
    "                    b = np.copy(a[i])\n",
    "                    c = np.copy(a[j])\n",
    "                    a[i] = c\n",
    "                    a[j] = b\n",
    "                if a[i][i] == 0:\n",
    "                    a[j] = np.zeros(len(a[j]))\n",
    "                    break\n",
    "                a[j] =np.copy(a[j] - ((a[j][i]/a[i][i])*a[i]))\n",
    "    return a"
   ]
  },
  {
   "cell_type": "code",
   "execution_count": 3,
   "metadata": {},
   "outputs": [],
   "source": [
    "def solucion(a):\n",
    "    c = diag(a)\n",
    "    ac = 1\n",
    "    n = len(c)\n",
    "    for i in range(n):\n",
    "        ac = ac*c[i][i]\n",
    "    if ac == 0.:\n",
    "        print('NO HAY SOLUCIÓN!!!')\n",
    "    else:\n",
    "        x = np.zeros(n)\n",
    "        for i in range(n):\n",
    "            ac = 0\n",
    "            for j in range(n):\n",
    "                ac = ac + c[n-1-i][n-1-j]*x[n-1-j]\n",
    "            x[n-1-i] = (c[n-1-i][n]- ac)/c[n-1-i][n-1-i]\n",
    "        return np.float32(x)"
   ]
  },
  {
   "cell_type": "markdown",
   "metadata": {},
   "source": [
    "Hacemos una matriz $a_{ij}$ con $i = 1,2,...,n$ y $j = 1,2,...,n+1$ para diagonalizarla:"
   ]
  },
  {
   "cell_type": "code",
   "execution_count": 4,
   "metadata": {},
   "outputs": [
    {
     "name": "stdout",
     "output_type": "stream",
     "text": [
      "La matriz extendida diagonalizada es:\n",
      "\n",
      "[[  2.    1.   -1.    1.    1. ]\n",
      " [  0.    1.    0.    3.    4. ]\n",
      " [  0.    0.    0.5   8.    5.5]\n",
      " [  0.    0.    0.  -48.  -33. ]]\n"
     ]
    }
   ],
   "source": [
    "a = [[0,1,0,3,4],[2,1,-1,1,1],[3,-1,-1,2,-3],[-1,2,3,-1,4]]\n",
    "print('La matriz extendida diagonalizada es:\\n')\n",
    "print(diag(a))"
   ]
  },
  {
   "cell_type": "markdown",
   "metadata": {},
   "source": [
    "Obtenemos las soluciones $x_i$ del sistema de ecuaciones:"
   ]
  },
  {
   "cell_type": "code",
   "execution_count": 5,
   "metadata": {},
   "outputs": [
    {
     "name": "stdout",
     "output_type": "stream",
     "text": [
      "Las soluciones son:\n",
      "\n",
      "[-0.8125  1.9375  0.      0.6875]\n"
     ]
    }
   ],
   "source": [
    "print('Las soluciones son:\\n')\n",
    "print(solucion(a))"
   ]
  },
  {
   "cell_type": "markdown",
   "metadata": {},
   "source": [
    "Hacemos una matriz $b_{ij}$ con $i = 1,2,...,n$ y $j = 1,2,...,n+1$ para diagonalizarla:"
   ]
  },
  {
   "cell_type": "code",
   "execution_count": 6,
   "metadata": {},
   "outputs": [
    {
     "name": "stdout",
     "output_type": "stream",
     "text": [
      "La matriz extendida diagonalizada es:\n",
      "\n",
      "[[1. 1. 1. 4.]\n",
      " [0. 0. 1. 2.]\n",
      " [0. 0. 0. 0.]]\n"
     ]
    }
   ],
   "source": [
    "b = [[1,1,1,4],[2,2,1,6],[1,1,2,6]]\n",
    "print('La matriz extendida diagonalizada es:\\n')\n",
    "print(diag(b))"
   ]
  },
  {
   "cell_type": "markdown",
   "metadata": {},
   "source": [
    "Obtenemos las soluciones $x_i$ del sistema de ecuaciones:"
   ]
  },
  {
   "cell_type": "code",
   "execution_count": 7,
   "metadata": {},
   "outputs": [
    {
     "name": "stdout",
     "output_type": "stream",
     "text": [
      "Las soluciones son:\n",
      "\n",
      "NO HAY SOLUCIÓN!!!\n",
      "None\n"
     ]
    }
   ],
   "source": [
    "print('Las soluciones son:\\n')\n",
    "print(solucion(b))"
   ]
  },
  {
   "cell_type": "code",
   "execution_count": null,
   "metadata": {},
   "outputs": [],
   "source": []
  }
 ],
 "metadata": {
  "kernelspec": {
   "display_name": "Python 3",
   "language": "python",
   "name": "python3"
  },
  "language_info": {
   "codemirror_mode": {
    "name": "ipython",
    "version": 3
   },
   "file_extension": ".py",
   "mimetype": "text/x-python",
   "name": "python",
   "nbconvert_exporter": "python",
   "pygments_lexer": "ipython3",
   "version": "3.7.3"
  }
 },
 "nbformat": 4,
 "nbformat_minor": 2
}
