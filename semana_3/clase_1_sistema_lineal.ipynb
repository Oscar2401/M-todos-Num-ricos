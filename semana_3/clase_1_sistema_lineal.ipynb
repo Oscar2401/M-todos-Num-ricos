{
 "cells": [
  {
   "cell_type": "code",
   "execution_count": 1,
   "metadata": {},
   "outputs": [],
   "source": [
    "import numpy as np\n",
    "import matplotlib.pyplot as plt\n",
    "import math\n",
    "import pylab\n",
    "import scipy.misc as sci"
   ]
  },
  {
   "cell_type": "code",
   "execution_count": 80,
   "metadata": {},
   "outputs": [],
   "source": [
    "def diag(a):        \n",
    "    for i in range(len(a)):\n",
    "        for j in range(len(a)):\n",
    "            if i < j:\n",
    "                if a[i][i] == 0:\n",
    "                    b = a[i]\n",
    "                    a[i] = a[j]\n",
    "                    a[j] = b\n",
    "                a[j] = a[j] - ((a[j][i]/a[i][i])*a[i])\n",
    "    return a"
   ]
  },
  {
   "cell_type": "code",
   "execution_count": 85,
   "metadata": {},
   "outputs": [
    {
     "name": "stdout",
     "output_type": "stream",
     "text": [
      "[[ 1  1  0  3  4]\n",
      " [ 2  1 -1  1  1]\n",
      " [ 3 -1 -1  2 -1]\n",
      " [-1  2  3 -1  4]]\n"
     ]
    },
    {
     "data": {
      "text/plain": [
       "array([[  1,   1,   0,   3,   4],\n",
       "       [  0,  -1,  -1,  -5,  -7],\n",
       "       [  0,   0,   3,  13,  15],\n",
       "       [  0,   0,   0, -13, -13]])"
      ]
     },
     "execution_count": 85,
     "metadata": {},
     "output_type": "execute_result"
    }
   ],
   "source": [
    "a = [[1,1,0,3,4],[2,1,-1,1,1],[3,-1,-1,2,-1],[-1,2,3,-1,4]]\n",
    "a = np.array(a)\n",
    "print(a)\n",
    "diag(a)"
   ]
  },
  {
   "cell_type": "code",
   "execution_count": 89,
   "metadata": {},
   "outputs": [
    {
     "name": "stdout",
     "output_type": "stream",
     "text": [
      "[[1 1 1 4]\n",
      " [2 2 1 6]\n",
      " [1 1 2 6]]\n"
     ]
    },
    {
     "name": "stderr",
     "output_type": "stream",
     "text": [
      "/usr/lib/python3.7/site-packages/ipykernel_launcher.py:10: RuntimeWarning: invalid value encountered in long_scalars\n",
      "  # Remove the CWD from sys.path while we load stuff.\n"
     ]
    },
    {
     "data": {
      "text/plain": [
       "array([[                   1,                    1,                    1,\n",
       "                           4],\n",
       "       [                   0,                    0,                    1,\n",
       "                           2],\n",
       "       [-9223372036854775808, -9223372036854775808, -9223372036854775808,\n",
       "        -9223372036854775808]])"
      ]
     },
     "execution_count": 89,
     "metadata": {},
     "output_type": "execute_result"
    }
   ],
   "source": [
    "a = [[1,1,1,4],[2,2,1,6],[1,1,2,6]]\n",
    "a = np.array(a)\n",
    "print(a)\n",
    "diag(a)"
   ]
  },
  {
   "cell_type": "code",
   "execution_count": null,
   "metadata": {},
   "outputs": [],
   "source": []
  }
 ],
 "metadata": {
  "kernelspec": {
   "display_name": "Python 3",
   "language": "python",
   "name": "python3"
  },
  "language_info": {
   "codemirror_mode": {
    "name": "ipython",
    "version": 3
   },
   "file_extension": ".py",
   "mimetype": "text/x-python",
   "name": "python",
   "nbconvert_exporter": "python",
   "pygments_lexer": "ipython3",
   "version": "3.7.0"
  }
 },
 "nbformat": 4,
 "nbformat_minor": 2
}
