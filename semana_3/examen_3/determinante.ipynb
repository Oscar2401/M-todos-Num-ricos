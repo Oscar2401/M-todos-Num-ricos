{
 "cells": [
  {
   "cell_type": "markdown",
   "metadata": {},
   "source": [
    "# Determinante:\n",
    "\n",
    "Integrantes:\n",
    "\n",
    "*De la Cruz Echeveste Oscar \n",
    "\n",
    "*Miranda Bustos Luis Fernando\n",
    "\n",
    "*Obregon Ocampo Fernanda \n",
    "\n",
    "#### Calcular el determinante mediante diagonalización:"
   ]
  },
  {
   "cell_type": "code",
   "execution_count": 1,
   "metadata": {},
   "outputs": [],
   "source": [
    "import numpy as np\n",
    "import matplotlib.pyplot as plt\n",
    "import math\n",
    "import pylab\n",
    "import scipy.misc as sci"
   ]
  },
  {
   "cell_type": "markdown",
   "metadata": {},
   "source": [
    "Hacemos una función que organice las matrices en forma de escalera inverza"
   ]
  },
  {
   "cell_type": "code",
   "execution_count": 2,
   "metadata": {},
   "outputs": [],
   "source": [
    "def organizador(a):\n",
    "    a = np.float32(np.array(a))\n",
    "    n = len(a)\n",
    "    m = len(a[0])\n",
    "    c =  np.float32(np.zeros((n,m)))\n",
    "    l = 0\n",
    "    h = 0\n",
    "    for j in range(m):\n",
    "        l = 0\n",
    "        p = h\n",
    "        for i in range(n-p):\n",
    "            if a[i+p][j] != 0:\n",
    "                c[i-l+p] = a[i+p]\n",
    "                h = h+1\n",
    "            else:\n",
    "                c[n-l-1] = a[i+p]\n",
    "                l = l+1\n",
    "        a = np.copy(c)\n",
    "            \n",
    "    return c"
   ]
  },
  {
   "cell_type": "markdown",
   "metadata": {},
   "source": [
    "Definimos una función que diagonalice una matriz de nxn:"
   ]
  },
  {
   "cell_type": "code",
   "execution_count": 3,
   "metadata": {},
   "outputs": [],
   "source": [
    "def diag(a):   \n",
    "    a = np.copy(organizador(a))\n",
    "    n = len(a)\n",
    "    m = len(a[0])\n",
    "    for i in range(m):\n",
    "        for j in range(n):\n",
    "            if i < j:\n",
    "                a[j] =np.copy(a[j] - ((a[j][i]/a[i][i])*a[i]))\n",
    "        a = np.copy(organizador(a))\n",
    "    return a"
   ]
  },
  {
   "cell_type": "code",
   "execution_count": 4,
   "metadata": {},
   "outputs": [],
   "source": [
    "def deter(a):\n",
    "    c = diag(a)\n",
    "    ac = 1\n",
    "    for i in range(len(c)):\n",
    "        ac = ac*c[i][i]\n",
    "    return ac"
   ]
  },
  {
   "cell_type": "markdown",
   "metadata": {},
   "source": [
    "#### Introducimos la matriz de la que queremos obtener el determinante (Aqui modificamos el código):"
   ]
  },
  {
   "cell_type": "code",
   "execution_count": 5,
   "metadata": {},
   "outputs": [],
   "source": [
    "a = [[-1,2,3,-1,0],[0,1,0,0,1],[4,1,9,3,0],[-3,4,-2,1,1],[0,0,3,-1,2]]"
   ]
  },
  {
   "cell_type": "code",
   "execution_count": 6,
   "metadata": {},
   "outputs": [
    {
     "name": "stdout",
     "output_type": "stream",
     "text": [
      "La matriz extendida diagonalizada es:\n",
      "\n",
      "[[-1.00e+00  2.00e+00  3.00e+00 -1.00e+00  0.00e+00]\n",
      " [ 0.00e+00  1.00e+00  0.00e+00  0.00e+00  1.00e+00]\n",
      " [ 0.00e+00  0.00e+00 -1.10e+01  4.00e+00  3.00e+00]\n",
      " [ 0.00e+00  0.00e+00  0.00e+00  9.00e-02  2.82e+00]\n",
      " [ 0.00e+00  0.00e+00  0.00e+00  0.00e+00 -2.09e+02]]\n",
      "\n",
      "El determinante de la matriz es:\n",
      "\n",
      "-208.99999845025195\n"
     ]
    }
   ],
   "source": [
    "print('La matriz extendida diagonalizada es:\\n')\n",
    "print(np.round(diag(a),2))\n",
    "print('\\nEl determinante de la matriz es:\\n')\n",
    "print(deter(a))"
   ]
  },
  {
   "cell_type": "code",
   "execution_count": null,
   "metadata": {},
   "outputs": [],
   "source": []
  }
 ],
 "metadata": {
  "kernelspec": {
   "display_name": "Python 3",
   "language": "python",
   "name": "python3"
  },
  "language_info": {
   "codemirror_mode": {
    "name": "ipython",
    "version": 3
   },
   "file_extension": ".py",
   "mimetype": "text/x-python",
   "name": "python",
   "nbconvert_exporter": "python",
   "pygments_lexer": "ipython3",
   "version": "3.6.8"
  }
 },
 "nbformat": 4,
 "nbformat_minor": 2
}
