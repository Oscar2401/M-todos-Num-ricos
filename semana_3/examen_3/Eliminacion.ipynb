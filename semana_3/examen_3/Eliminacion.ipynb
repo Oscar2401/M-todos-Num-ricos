{
 "cells": [
  {
   "cell_type": "markdown",
   "metadata": {},
   "source": [
    "# Eliminación gaussiana:\n",
    "\n",
    "Integrantes:\n",
    "\n",
    "*De la Cruz Echeveste Oscar \n",
    "\n",
    "*Miranda Bustos Luis Fernando\n",
    "\n",
    "*Obregon Ocampo Fernanda \n",
    "\n",
    "#### Resolver un sistema de ecuaciones mediante eliminación gaussiana:"
   ]
  },
  {
   "cell_type": "code",
   "execution_count": 1,
   "metadata": {},
   "outputs": [],
   "source": [
    "import numpy as np\n",
    "import matplotlib.pyplot as plt\n",
    "import math\n",
    "import pylab\n",
    "import scipy.misc as sci"
   ]
  },
  {
   "cell_type": "markdown",
   "metadata": {},
   "source": [
    "Hacemos una función que organice las matrices en forma de escalera inverza"
   ]
  },
  {
   "cell_type": "code",
   "execution_count": 2,
   "metadata": {},
   "outputs": [],
   "source": [
    "def organizador(a):\n",
    "    a = np.float32(np.array(a))\n",
    "    n = len(a)\n",
    "    m = len(a[0])\n",
    "    c =  np.float32(np.zeros((n,m)))\n",
    "    l = 0\n",
    "    h = 0\n",
    "    for j in range(m):\n",
    "        l = 0\n",
    "        p = h\n",
    "        for i in range(n-p):\n",
    "            if a[i+p][j] != 0:\n",
    "                c[i-l+p] = a[i+p]\n",
    "                h = h+1\n",
    "            else:\n",
    "                c[n-l-1] = a[i+p]\n",
    "                l = l+1\n",
    "        a = np.copy(c)\n",
    "            \n",
    "    return c"
   ]
  },
  {
   "cell_type": "markdown",
   "metadata": {},
   "source": [
    "Definimos una función para diagonalizar la matriz"
   ]
  },
  {
   "cell_type": "code",
   "execution_count": 3,
   "metadata": {},
   "outputs": [],
   "source": [
    "def diag(a):   \n",
    "    a = np.copy(organizador(a))\n",
    "    n = len(a)\n",
    "    m = len(a[0])\n",
    "    for i in range(m):\n",
    "        for j in range(n):\n",
    "            if i < j:\n",
    "                a[j] =np.copy(a[j] - ((a[j][i]/a[i][i])*a[i]))\n",
    "        a = np.copy(organizador(a))\n",
    "    return a"
   ]
  },
  {
   "cell_type": "markdown",
   "metadata": {},
   "source": [
    "Hacemos una funcion que resuelva el sistema de ecuaciones:"
   ]
  },
  {
   "cell_type": "code",
   "execution_count": 4,
   "metadata": {},
   "outputs": [],
   "source": [
    "def solucion(a,b):\n",
    "    a = np.float32(a)\n",
    "    b = np.float32(b)\n",
    "    A = np.append(a.T,[b],axis=0).T\n",
    "    c = diag(A)\n",
    "    ac = 1\n",
    "    n = len(c)\n",
    "    m = len(c[0])\n",
    "    for i in range(n):\n",
    "        ac = ac*c[i][i]\n",
    "    if ac == 0.:\n",
    "        print('NO HAY SOLUCIÓN!!!')\n",
    "    else:\n",
    "        x = np.zeros(n)\n",
    "        for i in range(n):\n",
    "            ac = 0\n",
    "            for j in range(n):\n",
    "                ac = ac + c[n-1-i][n-1-j]*x[n-1-j]\n",
    "            x[n-1-i] = (c[n-1-i][n]- ac)/c[n-1-i][n-1-i]\n",
    "        return np.float32(x)"
   ]
  },
  {
   "cell_type": "markdown",
   "metadata": {},
   "source": [
    "Resolvemos el sistema de ecuaciones:\n",
    "\n",
    "\\begin{equation}\n",
    "A\\vec{x} = \\vec{b}\n",
    "\\end{equation}\n",
    "\n",
    "#### Construimos la matriz $A$ de la ecuación (aqui modificamos el codigo):"
   ]
  },
  {
   "cell_type": "code",
   "execution_count": 5,
   "metadata": {},
   "outputs": [],
   "source": [
    "A = [[0,0,1,0,3,2],[2,2,1,0,1,-1],[2,6,7,0,2,-4],[0,2,2,3,-1,0],[0,0,0,3,4,5],[1,3,5,2,2,3]]"
   ]
  },
  {
   "cell_type": "markdown",
   "metadata": {},
   "source": [
    "#### Construimos el vector $\\vec{b}$ de la ecuación (aqui modificamos el codigo):"
   ]
  },
  {
   "cell_type": "code",
   "execution_count": 6,
   "metadata": {},
   "outputs": [],
   "source": [
    "b = [4,1,-3,4,2,0]"
   ]
  },
  {
   "cell_type": "markdown",
   "metadata": {},
   "source": [
    "Obtenemos la soluciones:"
   ]
  },
  {
   "cell_type": "code",
   "execution_count": 7,
   "metadata": {},
   "outputs": [
    {
     "name": "stdout",
     "output_type": "stream",
     "text": [
      "Las soluciones x son:\n",
      "\n",
      "x_ 0 = 27.553583\n",
      "x_ 1 = -145.72166\n",
      "x_ 2 = 50.08614\n",
      "x_ 3 = 99.84035\n",
      "x_ 4 = 104.25001\n",
      "x_ 5 = -83.00001\n"
     ]
    }
   ],
   "source": [
    "print('Las soluciones x son:\\n')\n",
    "x = solucion(A,b)\n",
    "for i in range(len(x)):\n",
    "    print('x_',i,'=', x[i])"
   ]
  },
  {
   "cell_type": "code",
   "execution_count": null,
   "metadata": {},
   "outputs": [],
   "source": []
  }
 ],
 "metadata": {
  "kernelspec": {
   "display_name": "Python 3",
   "language": "python",
   "name": "python3"
  },
  "language_info": {
   "codemirror_mode": {
    "name": "ipython",
    "version": 3
   },
   "file_extension": ".py",
   "mimetype": "text/x-python",
   "name": "python",
   "nbconvert_exporter": "python",
   "pygments_lexer": "ipython3",
   "version": "3.6.8"
  }
 },
 "nbformat": 4,
 "nbformat_minor": 2
}
