{
 "cells": [
  {
   "cell_type": "markdown",
   "metadata": {},
   "source": [
    "# INVERZA \n",
    "#### Calcular la Inverza de una matriz $n\\times n$ usando el método de cofactores"
   ]
  },
  {
   "cell_type": "code",
   "execution_count": 1,
   "metadata": {},
   "outputs": [],
   "source": [
    "import numpy as np\n",
    "import matplotlib.pyplot as plt\n",
    "import math\n",
    "import pylab\n",
    "import scipy.misc as sci"
   ]
  },
  {
   "cell_type": "markdown",
   "metadata": {},
   "source": [
    "Definimos una función que calcula el determinante de una matriz nxn:"
   ]
  },
  {
   "cell_type": "code",
   "execution_count": 156,
   "metadata": {},
   "outputs": [],
   "source": [
    "def det(A):\n",
    "    A = np.float32(np.array(A))\n",
    "    suma = 0   #acomulador de suma.\n",
    "    \n",
    "    if len(A) == 1:\n",
    "        return A[0]\n",
    "    \n",
    "    if len(A[0]) == 2:   \n",
    "        suma =((A[0][0]*A[1][1])-(A[0][1]*A[1][0]))  \n",
    "        \n",
    "    if len(A[0])>2:   \n",
    "        for k in range(len(A[0])):   \n",
    "            B=[]\n",
    "            for i in range(len(A[0])-1):   \n",
    "                a=[]\n",
    "                for j in range(len(A[0])-1):\n",
    "                    if k<=j:\n",
    "                        a.append(A[i+1][j+1])   \n",
    "                    if k>j:\n",
    "                        a.append(A[i+1][j])\n",
    "                B.append(a)\n",
    "            if k%2==0:   \n",
    "                suma = suma + ((A[0][k])*det(B))\n",
    "            if k%2!=0:   \n",
    "                suma = suma -((A[0][k])*det(B))\n",
    "    return suma"
   ]
  },
  {
   "cell_type": "markdown",
   "metadata": {},
   "source": [
    "Definimos una función que calcule la matriz de cofactores:"
   ]
  },
  {
   "cell_type": "code",
   "execution_count": 157,
   "metadata": {},
   "outputs": [],
   "source": [
    "def cofact(A):\n",
    "    A = np.float32(np.array(A))\n",
    "    C = []\n",
    "    n = len(A)\n",
    "    m = len(A[0])\n",
    "    for l in range(n):\n",
    "        D = []\n",
    "        for k in range(m): \n",
    "            B=[]\n",
    "            for i in range(m-1):   \n",
    "                a=[]\n",
    "                for j in range(m-1):\n",
    "                    if l<=i:\n",
    "                        if k<=j:\n",
    "                            a.append(A[i+1][j+1])   \n",
    "                        if k>j:\n",
    "                            a.append(A[i+1][j])\n",
    "                    if l>i:\n",
    "                        if k<=j:\n",
    "                            a.append(A[i][j+1])   \n",
    "                        if k>j:\n",
    "                            a.append(A[i][j])\n",
    "                B.append(a)\n",
    "            if l%2 == 0:\n",
    "                if k%2 == 0:\n",
    "                    D.append(det(B))\n",
    "                if k%2 != 0:   \n",
    "                    D.append(-det(B))\n",
    "            if l%2 != 0:\n",
    "                if k%2 == 0:\n",
    "                    D.append(-det(B))\n",
    "                if k%2 != 0:   \n",
    "                    D.append(det(B))\n",
    "        C.append(D)\n",
    "    return np.float32(np.array(C))"
   ]
  },
  {
   "cell_type": "code",
   "execution_count": 160,
   "metadata": {},
   "outputs": [],
   "source": [
    "def inversa(A):\n",
    "    return (cofact(A).T)/det(A)"
   ]
  },
  {
   "cell_type": "markdown",
   "metadata": {},
   "source": [
    "#### Creamos la matriz que queremos calcular (aqui se modifica el programa):"
   ]
  },
  {
   "cell_type": "code",
   "execution_count": 186,
   "metadata": {},
   "outputs": [],
   "source": [
    "A = [[0,1,0,3],[2,1,-1,1],[3,-1,-1,2],[-1,2,3,-1]]"
   ]
  },
  {
   "cell_type": "markdown",
   "metadata": {},
   "source": [
    "Calculamos el determinante, la matriz de cofactores y la inverza:"
   ]
  },
  {
   "cell_type": "code",
   "execution_count": 190,
   "metadata": {},
   "outputs": [
    {
     "name": "stdout",
     "output_type": "stream",
     "text": [
      "El determinante de la matriz es:\n",
      "48.0\n",
      "\n",
      "La matiz de cofactores de la matriz es:\n",
      "[[ -9.   3.   0.  15.]\n",
      " [  8.  24. -16.  -8.]\n",
      " [ 13. -15.  16.   5.]\n",
      " [  7.   3.  16.  -1.]]\n",
      "\n",
      "La matiz inverza es:\n",
      "\n",
      "[[-0.1875      0.16666667  0.27083334  0.14583333]\n",
      " [ 0.0625      0.5        -0.3125      0.0625    ]\n",
      " [ 0.         -0.33333334  0.33333334  0.33333334]\n",
      " [ 0.3125     -0.16666667  0.10416666 -0.02083333]]\n"
     ]
    }
   ],
   "source": [
    "print('El determinante de la matriz es:')\n",
    "print(det(A))\n",
    "print('\\nLa matiz de cofactores de la matriz es:')\n",
    "print(cofact(A))\n",
    "A_inv = inversa(A)\n",
    "print('\\nLa matiz inverza es:\\n')\n",
    "print(A_inv)"
   ]
  },
  {
   "cell_type": "markdown",
   "metadata": {},
   "source": [
    "Para comprobar que sea correcto el cálculo multiplicamos $AA^{-1} = I$\n",
    "\n",
    "para ello definimos la función multiplicación de matrices"
   ]
  },
  {
   "cell_type": "code",
   "execution_count": 180,
   "metadata": {},
   "outputs": [],
   "source": [
    "def mult_matrx(a,b):\n",
    "    if len(a[0]) == len(b):\n",
    "        n = len(a)\n",
    "        m = len(a[0])\n",
    "        p = len(b[0])\n",
    "        c = np.zeros((n,p))\n",
    "        for i in range(n):\n",
    "            for j in range(p):\n",
    "                ac = 0\n",
    "                for k in range(m):\n",
    "                    ac = ac + a[i][k]*b[k][j]\n",
    "                c[i][j] = ac\n",
    "        return c\n",
    "    else: \n",
    "        print('LA MULTIPLICACIÓN DE LAS MATRICES NO SE PUEDE LLEVAR A CABO.\\n')"
   ]
  },
  {
   "cell_type": "code",
   "execution_count": 183,
   "metadata": {},
   "outputs": [
    {
     "name": "stdout",
     "output_type": "stream",
     "text": [
      "[[ 1. -0.  0. -0.  0.]\n",
      " [ 0.  1.  0. -0.  0.]\n",
      " [ 0. -0.  1.  0.  0.]\n",
      " [ 0. -0. -0.  1.  0.]\n",
      " [ 0. -0.  0. -0.  1.]]\n"
     ]
    }
   ],
   "source": [
    "print(np.round(mult_matrx(A,A_inv),5))"
   ]
  }
 ],
 "metadata": {
  "kernelspec": {
   "display_name": "Python 3",
   "language": "python",
   "name": "python3"
  },
  "language_info": {
   "codemirror_mode": {
    "name": "ipython",
    "version": 3
   },
   "file_extension": ".py",
   "mimetype": "text/x-python",
   "name": "python",
   "nbconvert_exporter": "python",
   "pygments_lexer": "ipython3",
   "version": "3.7.3"
  }
 },
 "nbformat": 4,
 "nbformat_minor": 2
}
