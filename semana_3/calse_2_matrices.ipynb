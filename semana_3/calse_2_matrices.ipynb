{
 "cells": [
  {
   "cell_type": "markdown",
   "metadata": {},
   "source": [
    "# Matrices"
   ]
  },
  {
   "cell_type": "code",
   "execution_count": 1,
   "metadata": {},
   "outputs": [],
   "source": [
    "import numpy as np\n",
    "import matplotlib.pyplot as plt\n",
    "import math\n",
    "import pylab\n",
    "import scipy.misc as sci"
   ]
  },
  {
   "cell_type": "code",
   "execution_count": 2,
   "metadata": {},
   "outputs": [],
   "source": [
    "def suma_matrx(a,b):\n",
    "    n = len(a)\n",
    "    m = len(a[0])\n",
    "    c = np.zeros((n,m))\n",
    "    for i in range(n):\n",
    "        for j in range(m):\n",
    "            c[i][j] = a[i][j] + b[i][j]\n",
    "    return c"
   ]
  },
  {
   "cell_type": "code",
   "execution_count": 3,
   "metadata": {},
   "outputs": [
    {
     "name": "stdout",
     "output_type": "stream",
     "text": [
      "[[ 1.  3.  3.  7.  9.]\n",
      " [ 9. -7. -2.  4.  2.]\n",
      " [ 9. -2. -2.  4. -6.]\n",
      " [-2.  4.  6. -2.  8.]]\n"
     ]
    }
   ],
   "source": [
    "a = [[0,1,0,3,4],[2,1,-1,1,1],[3,-1,-1,2,-3],[-1,2,3,-1,4]]\n",
    "b = [[1,2,3,4,5],[7,-8,-1,3,1],[6,-1,-1,2,-3],[-1,2,3,-1,4]]\n",
    "\n",
    "print(suma_matrx(a,b))"
   ]
  },
  {
   "cell_type": "code",
   "execution_count": 16,
   "metadata": {},
   "outputs": [],
   "source": [
    "def mult_matrx(a,b):\n",
    "    if len(a[0]) == len(b):\n",
    "        n = len(a)\n",
    "        m = len(a[0])\n",
    "        p = len(b[0])\n",
    "        c = np.zeros((n,p))\n",
    "        for i in range(n):\n",
    "            for j in range(p):\n",
    "                ac = 0\n",
    "                for k in range(m):\n",
    "                    ac = ac + a[i][k]*b[k][j]\n",
    "                c[i][j] = ac\n",
    "        return c\n",
    "    else: \n",
    "        print('LA MULTIPLICACIÓN DE LAS MATRICES NO SE PUEDE LLEVAR A CABO.\\n')"
   ]
  },
  {
   "cell_type": "code",
   "execution_count": 18,
   "metadata": {},
   "outputs": [],
   "source": [
    "A = [[2,1,-1],[3,1,2],[0.,-1,-3]]\n",
    "B = [[3,2],[-1,1],[0,4]]\n",
    "C = [[2,1,0.],[-1,3,2]]\n",
    "D = [[1.,-1.,1.],[2.,-1.,2.],[3.,0.,3.]]"
   ]
  },
  {
   "cell_type": "code",
   "execution_count": 19,
   "metadata": {},
   "outputs": [
    {
     "data": {
      "text/plain": [
       "array([[  1.,  -3.,   1.],\n",
       "       [ 11.,  -4.,  11.],\n",
       "       [-11.,   1., -11.]])"
      ]
     },
     "execution_count": 19,
     "metadata": {},
     "output_type": "execute_result"
    }
   ],
   "source": [
    "mult_matrx(A,D)"
   ]
  },
  {
   "cell_type": "code",
   "execution_count": 20,
   "metadata": {},
   "outputs": [
    {
     "data": {
      "text/plain": [
       "array([[ 4.,  9.,  4.],\n",
       "       [-3.,  2.,  2.],\n",
       "       [-4., 12.,  8.]])"
      ]
     },
     "execution_count": 20,
     "metadata": {},
     "output_type": "execute_result"
    }
   ],
   "source": [
    "mult_matrx(B,C)"
   ]
  },
  {
   "cell_type": "code",
   "execution_count": 21,
   "metadata": {},
   "outputs": [
    {
     "name": "stdout",
     "output_type": "stream",
     "text": [
      "LA MULTIPLICACIÓN DE LAS MATRICES NO SE PUEDE LLEVAR A CABO.\n",
      "\n"
     ]
    }
   ],
   "source": [
    "mult_matrx(B,A)"
   ]
  },
  {
   "cell_type": "code",
   "execution_count": 22,
   "metadata": {},
   "outputs": [],
   "source": [
    "def diag(a):   \n",
    "    a = np.float32(np.array(a))\n",
    "    for i in range(len(a)):\n",
    "        for j in range(len(a)):\n",
    "            if i < j:\n",
    "                if a[i][i] == 0:\n",
    "                    b = np.copy(a[i])\n",
    "                    c = np.copy(a[j])\n",
    "                    a[i] = c\n",
    "                    a[j] = b\n",
    "                if a[i][i] == 0:\n",
    "                    a[j] = np.zeros(len(a[j]))\n",
    "                    break\n",
    "                a[j] =np.copy(a[j] - ((a[j][i]/a[i][i])*a[i]))\n",
    "    return a"
   ]
  },
  {
   "cell_type": "code",
   "execution_count": 23,
   "metadata": {},
   "outputs": [],
   "source": [
    "def solucion(a):\n",
    "    c = diag(a)\n",
    "    ac = 1\n",
    "    n = len(c)\n",
    "    for i in range(n):\n",
    "        ac = ac*c[i][i]\n",
    "    if ac == 0.:\n",
    "        print('NO HAY SOLUCIÓN!!!')\n",
    "    else:\n",
    "        x = np.zeros(n)\n",
    "        for i in range(n):\n",
    "            ac = 0\n",
    "            for j in range(n):\n",
    "                ac = ac + c[n-1-i][n-1-j]*x[n-1-j]\n",
    "            x[n-1-i] = (c[n-1-i][n]- ac)/c[n-1-i][n-1-i]\n",
    "        return np.float32(x)"
   ]
  },
  {
   "cell_type": "code",
   "execution_count": 24,
   "metadata": {},
   "outputs": [],
   "source": [
    "def inversa(a):\n",
    "    a = np.float32(np.array(a))\n",
    "    I = np.identity((len(a)))\n",
    "    a_inv = []\n",
    "    for i in range(len(I)):\n",
    "        B = []\n",
    "        B =  np.append(a,[I[i]],axis=0).T\n",
    "        a_inv.append(solucion(B))\n",
    "    return np.array(a_inv)"
   ]
  },
  {
   "cell_type": "code",
   "execution_count": 25,
   "metadata": {},
   "outputs": [
    {
     "name": "stdout",
     "output_type": "stream",
     "text": [
      "[[-0.22222221  0.5555555  -0.11111113]\n",
      " [ 0.44444445 -0.1111111   0.22222222]\n",
      " [-0.33333334  0.33333334  0.33333334]]\n"
     ]
    }
   ],
   "source": [
    "A = [[1,2,-1],[2,1,0.],[-1,1,2]]\n",
    "A_inv = inversa(A)\n",
    "print(A_inv)"
   ]
  },
  {
   "cell_type": "code",
   "execution_count": 26,
   "metadata": {},
   "outputs": [
    {
     "name": "stdout",
     "output_type": "stream",
     "text": [
      "[[ 1. -0. -0.]\n",
      " [ 0.  1. -0.]\n",
      " [-0.  0.  1.]]\n"
     ]
    }
   ],
   "source": [
    "B = np.round(mult_matrx(A,A_inv),1)\n",
    "print(B)"
   ]
  },
  {
   "cell_type": "code",
   "execution_count": null,
   "metadata": {},
   "outputs": [],
   "source": []
  }
 ],
 "metadata": {
  "kernelspec": {
   "display_name": "Python 3",
   "language": "python",
   "name": "python3"
  },
  "language_info": {
   "codemirror_mode": {
    "name": "ipython",
    "version": 3
   },
   "file_extension": ".py",
   "mimetype": "text/x-python",
   "name": "python",
   "nbconvert_exporter": "python",
   "pygments_lexer": "ipython3",
   "version": "3.6.8"
  }
 },
 "nbformat": 4,
 "nbformat_minor": 2
}
