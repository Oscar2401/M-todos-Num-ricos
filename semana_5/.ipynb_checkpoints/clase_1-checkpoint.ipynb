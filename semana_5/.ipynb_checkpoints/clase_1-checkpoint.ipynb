{
 "cells": [
  {
   "cell_type": "markdown",
   "metadata": {},
   "source": [
    "# Ecuaciones diferenciales ordinarias con valoes iniciales.\n",
    "\n",
    "## Método de Euler "
   ]
  },
  {
   "cell_type": "code",
   "execution_count": 1,
   "metadata": {},
   "outputs": [],
   "source": [
    "import numpy as np\n",
    "import matplotlib.pyplot as plt\n",
    "import math\n",
    "import pylab as pl \n",
    "from scipy.interpolate import interp1d "
   ]
  },
  {
   "cell_type": "markdown",
   "metadata": {},
   "source": [
    "Resolveremos una ecuación de la forma:\n",
    "\\begin{equation}\n",
    "\\frac{dy}{dt} = f(t,y)\n",
    "\\end{equation}\n",
    "\n",
    "con condición inicial:\n",
    "\\begin{equation}\n",
    "y(a) = \\alpha \\quad con \\quad a<t<b\n",
    "\\end{equation}"
   ]
  },
  {
   "cell_type": "markdown",
   "metadata": {},
   "source": [
    "Resolvemos la ecuación de Friedmann :\n",
    "\\begin{equation}\n",
    "\\frac{1}{a}\\frac{da}{dt} = H_0 \\left[ \\frac{\\Omega_m}{a^3} + \\frac{\\Omega_{\\rho}}{a^4} + \\Omega_{\\Delta} \\right]^{1/2}\n",
    "\\end{equation}\n",
    "\n",
    "Entonces, tenemos que:\n",
    "\\begin{equation}\n",
    "f(a) = H_0 \\left[ \\frac{\\Omega_m}{a} + \\frac{\\Omega_{\\rho}}{a^2} + a^2\\Omega_{\\Delta} \\right]^{1/2}\n",
    "\\end{equation}\n",
    "\n",
    "Definimod una función para $f$"
   ]
  },
  {
   "cell_type": "code",
   "execution_count": 2,
   "metadata": {},
   "outputs": [],
   "source": [
    "def f(y):\n",
    "    omg_mo = 0.3\n",
    "    omg_ro = 1.e-5\n",
    "    omg_d = 0.7\n",
    "    G = 6.67e-11\n",
    "    ro_0 = 1.e-26\n",
    "    H_o = math.sqrt((8*math.pi*G*ro_0)/3)*(3600)*(24)*(365)\n",
    "    return H_o*((np.divide(omg_mo,y)+ np.divide(omg_ro,y**2) + (y**2)*omg_d))**0.5"
   ]
  },
  {
   "cell_type": "markdown",
   "metadata": {},
   "source": [
    "Resolviendo usando el método de Euler:\n",
    "seleccionamos un entero $N$ y los puntos $\\{t_0, t_1, t_2, ... , t_N\\}$ donde $t_i = a + ih$ para cada i = 0,1,2,...,N con:\n",
    "\n",
    "\\begin{equation}\n",
    " h = \\frac{b-a}{N}\n",
    "\\end{equation}\n",
    "\n",
    "La solución del problema de valor inicial será:\n",
    "\n",
    "\\begin{equation}\n",
    "y(t_{i+1}) = y(t_i) + hy(t_i,y_i)\n",
    "\\end{equation}"
   ]
  },
  {
   "cell_type": "code",
   "execution_count": 3,
   "metadata": {},
   "outputs": [
    {
     "name": "stderr",
     "output_type": "stream",
     "text": [
      "/usr/lib/python3/dist-packages/ipykernel_launcher.py:8: RuntimeWarning: invalid value encountered in longdouble_scalars\n",
      "  \n"
     ]
    }
   ],
   "source": [
    "n = 50\n",
    "t_1 = (15.9e9)\n",
    "a = t_1\n",
    "b = 0.0\n",
    "t = np.linspace(a,b,n)\n",
    "y = np.zeros(n)\n",
    "y = np.float128(y)\n",
    "h = (b-a)/n\n",
    "y[0] = 1.0\n",
    "for i in range(1,n):\n",
    "        y[i] = y[i-1] + (h*f(y[i-1]))"
   ]
  },
  {
   "cell_type": "markdown",
   "metadata": {},
   "source": [
    "Comparamos la solución anterior con la solución a la ecuación de Friedmann resolviendo la integral:\n",
    "\n",
    "\\begin{equation}\n",
    "\\int_a^1\\frac{da'}{a'\\left( \\frac{\\Omega_{m0}}{a'^3} + \\frac{\\Omega_{r0}}{a'^4} +\\Omega_{\\Delta} \\right)^{1/2}} = \\int_t^{t_0} H_0 dt\n",
    "\\end{equation}\n",
    "\n",
    "Usando la función de python para la interpolación"
   ]
  },
  {
   "cell_type": "code",
   "execution_count": 4,
   "metadata": {},
   "outputs": [],
   "source": [
    "def simpson_com(y,x):\n",
    "    n = len(x)\n",
    "    a = np.min(x)\n",
    "    b = np.max(x)\n",
    "    h = (b-a)/n\n",
    "    s_1 = []\n",
    "    for i in range((int(n/2))-1):\n",
    "        s_1.append(y[2*i])\n",
    "    s_2 = []\n",
    "    for i in range((int(n/2))):\n",
    "        s_2.append(y[2*i-1])\n",
    "    return (h/3)*(y[0]+y[n-1] + 2*np.sum(s_1) + 4*np.sum(s_2))  "
   ]
  },
  {
   "cell_type": "code",
   "execution_count": 5,
   "metadata": {},
   "outputs": [],
   "source": [
    "n = 50\n",
    "a = np.linspace(0.000001,1,n)\n",
    "omg_mo = 0.3\n",
    "omg_ro = 1.e-5\n",
    "omg_d = 0.7\n",
    "G = 6.67e-11\n",
    "ro_0 = 1.e-26\n",
    "H_o = math.sqrt((8*math.pi*G*ro_0)/3)\n",
    "t_1 = (15.9e9)\n",
    "F_simp = []\n",
    "for i in range(len(a)):\n",
    "    x = np.linspace(a[i],np.max(a),10000)\n",
    "    F_simp.append(np.trapz(np.power(np.divide(1,np.divide(omg_mo,x)\\\n",
    "                                            + np.divide(omg_ro,np.power(x,2))\\\n",
    "                                            + x**2*omg_d),1/2),x))\n",
    "t_simp = t_1 - (np.divide(F_simp,H_o)*(1/3600)*(1/24)*(1/365))"
   ]
  },
  {
   "cell_type": "code",
   "execution_count": 6,
   "metadata": {},
   "outputs": [
    {
     "name": "stderr",
     "output_type": "stream",
     "text": [
      "/usr/lib/python3/dist-packages/ipykernel_launcher.py:3: RuntimeWarning: divide by zero encountered in log10\n",
      "  This is separate from the ipykernel package so we can avoid doing imports until\n"
     ]
    },
    {
     "data": {
      "text/plain": [
       "<matplotlib.legend.Legend at 0x7f8827d5f668>"
      ]
     },
     "execution_count": 6,
     "metadata": {},
     "output_type": "execute_result"
    },
    {
     "data": {
      "image/png": "[encoded data removed]",
      "text/plain": [
       "<Figure size 360x360 with 1 Axes>"
      ]
     },
     "metadata": {},
     "output_type": "display_data"
    }
   ],
   "source": [
    "plt.figure(figsize=(5,5))\n",
    "plt.plot(np.log10(t_simp),a,'*r', label='integracón')\n",
    "plt.plot(np.log10(t),y,'.b', label='Euler')\n",
    "plt.xlabel('log(t)',fontsize=18)\n",
    "plt.ylabel('y(t)',fontsize=18)\n",
    "plt.legend(loc='lower right', shadow=True, frameon = False , fontsize='x-large')"
   ]
  },
  {
   "cell_type": "code",
   "execution_count": null,
   "metadata": {},
   "outputs": [],
   "source": []
  },
  {
   "cell_type": "code",
   "execution_count": null,
   "metadata": {},
   "outputs": [],
   "source": []
  }
 ],
 "metadata": {
  "kernelspec": {
   "display_name": "Python 3",
   "language": "python",
   "name": "python3"
  },
  "language_info": {
   "codemirror_mode": {
    "name": "ipython",
    "version": 3
   },
   "file_extension": ".py",
   "mimetype": "text/x-python",
   "name": "python",
   "nbconvert_exporter": "python",
   "pygments_lexer": "ipython3",
   "version": "3.7.3"
  }
 },
 "nbformat": 4,
 "nbformat_minor": 2
}
