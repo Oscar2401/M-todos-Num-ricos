{
 "cells": [
  {
   "cell_type": "code",
   "execution_count": 1,
   "metadata": {},
   "outputs": [],
   "source": [
    "import numpy as np\n",
    "import matplotlib.pyplot as plt\n",
    "import math\n",
    "import pylab as pl \n",
    "from scipy.interpolate import interp1d "
   ]
  },
  {
   "cell_type": "code",
   "execution_count": 191,
   "metadata": {},
   "outputs": [],
   "source": [
    "def f(y):\n",
    "    omg_mo = 0.3\n",
    "    omg_ro = 1.e-5\n",
    "    omg_d = 0.7\n",
    "    G = 6.67e-11\n",
    "    ro_0 = 1.e-26\n",
    "    H_o = math.sqrt((8*math.pi*G*ro_0)/3)*(3600)*(24)*(365)\n",
    "    return H_o*np.power((np.divide(omg_mo,y)+ np.divide(omg_ro,np.power(y,2)) + (y**2)*omg_d),1/2)"
   ]
  },
  {
   "cell_type": "code",
   "execution_count": 192,
   "metadata": {},
   "outputs": [
    {
     "name": "stderr",
     "output_type": "stream",
     "text": [
      "/usr/lib/python3.7/site-packages/ipykernel_launcher.py:8: RuntimeWarning: invalid value encountered in power\n",
      "  \n"
     ]
    }
   ],
   "source": [
    "n = 1000\n",
    "t_1 = 15.9e9\n",
    "a = t_1\n",
    "b = 0\n",
    "t = np.linspace(a,b,n)\n",
    "h = (b-a)/n\n",
    "omg = []\n",
    "for i in range(len(t)):\n",
    "    if i == 0:\n",
    "        omg.append(1)\n",
    "    else:\n",
    "        omg.append(omg[i-1] + (h * f(omg[i-1])))"
   ]
  },
  {
   "cell_type": "code",
   "execution_count": 194,
   "metadata": {},
   "outputs": [
    {
     "data": {
      "text/plain": [
       "<matplotlib.legend.Legend at 0x7f9bf5de82b0>"
      ]
     },
     "execution_count": 194,
     "metadata": {},
     "output_type": "execute_result"
    },
    {
     "data": {
      "image/png": "[encoded data removed]",
      "text/plain": [
       "<Figure size 360x360 with 1 Axes>"
      ]
     },
     "metadata": {},
     "output_type": "display_data"
    }
   ],
   "source": [
    "plt.figure(figsize=(5,5))\n",
    "plt.plot(t,omg,'-b', label='Euler')\n",
    "plt.xlabel('t',fontsize=18)\n",
    "plt.ylabel('y(t)',fontsize=18)\n",
    "plt.legend(loc='lower right', shadow=True, frameon = False , fontsize='x-large')"
   ]
  },
  {
   "cell_type": "code",
   "execution_count": null,
   "metadata": {},
   "outputs": [],
   "source": []
  }
 ],
 "metadata": {
  "kernelspec": {
   "display_name": "Python 3",
   "language": "python",
   "name": "python3"
  },
  "language_info": {
   "codemirror_mode": {
    "name": "ipython",
    "version": 3
   },
   "file_extension": ".py",
   "mimetype": "text/x-python",
   "name": "python",
   "nbconvert_exporter": "python",
   "pygments_lexer": "ipython3",
   "version": "3.7.3"
  }
 },
 "nbformat": 4,
 "nbformat_minor": 2
}
