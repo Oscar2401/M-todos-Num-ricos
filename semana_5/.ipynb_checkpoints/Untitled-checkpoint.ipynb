{
 "cells": [
  {
   "cell_type": "markdown",
   "metadata": {},
   "source": [
    "# Método de Taylor de orden superior"
   ]
  },
  {
   "cell_type": "code",
   "execution_count": 1,
   "metadata": {},
   "outputs": [],
   "source": [
    "import numpy as np\n",
    "import matplotlib.pyplot as plt\n",
    "import math\n",
    "import pylab as pl \n",
    "from scipy.interpolate import interp1d "
   ]
  },
  {
   "cell_type": "code",
   "execution_count": 89,
   "metadata": {},
   "outputs": [],
   "source": [
    "def f(t,y):\n",
    "    return y-t**2+1"
   ]
  },
  {
   "cell_type": "code",
   "execution_count": null,
   "metadata": {},
   "outputs": [],
   "source": []
  },
  {
   "cell_type": "code",
   "execution_count": 90,
   "metadata": {},
   "outputs": [],
   "source": [
    "def T_2(t,y,h):\n",
    "    return f(t,y) + ((h/2)*(y - t**2 - 2*t +1))"
   ]
  },
  {
   "cell_type": "code",
   "execution_count": 91,
   "metadata": {},
   "outputs": [],
   "source": [
    "def T_4(t,y,h):\n",
    "    return f(t,y)+ ((h/2)*(y - t**2 - 2*t +1)) + (h**2 / 3)*(y - t**2 - 2*t - 1) + (h**3 / 4)*(y - t**2 - 2*t - 1)"
   ]
  },
  {
   "cell_type": "code",
   "execution_count": null,
   "metadata": {},
   "outputs": [],
   "source": []
  },
  {
   "cell_type": "code",
   "execution_count": 95,
   "metadata": {},
   "outputs": [],
   "source": [
    "n = 100\n",
    "\n",
    "a = 0.\n",
    "b = 2\n",
    "t = np.linspace(a,b,n)\n",
    "omg_0 = 0.5\n",
    "omg_2 = [omg_0]\n",
    "omg_4 = [omg_0]\n",
    "omg_rk = [omg_0]\n",
    "h = (b-a)/n\n",
    "for i in range(1,len(t)):\n",
    "    omg_2.append(omg_2[i-1] + h*T_2(t[i-1],omg_2[i-1],h))\n",
    "for i in range(1,len(t)):\n",
    "    omg_4.append(omg_4[i-1] + h*T_4(t[i-1],omg_4[i-1],h))\n",
    "for i in range(1,len(t)):\n",
    "    omg_rk.append(omg_rk[i-1] + h*f(t[i-1] + h/2, omg_rk[i-1] + (h/2)*(f(t[i-1],omg_rk[i-1]))))\n"
   ]
  },
  {
   "cell_type": "code",
   "execution_count": 96,
   "metadata": {},
   "outputs": [],
   "source": [
    "y = (t+1)**2 - (0.5*math.e**t)"
   ]
  },
  {
   "cell_type": "code",
   "execution_count": 97,
   "metadata": {},
   "outputs": [
    {
     "data": {
      "text/plain": [
       "<matplotlib.legend.Legend at 0x7fdbac730a90>"
      ]
     },
     "execution_count": 97,
     "metadata": {},
     "output_type": "execute_result"
    },
    {
     "data": {
      "image/png": "[encoded data removed]",
      "text/plain": [
       "<Figure size 432x288 with 1 Axes>"
      ]
     },
     "metadata": {},
     "output_type": "display_data"
    }
   ],
   "source": [
    "plt.plot(t,omg_2,'go',label='$T^{(2)}$')\n",
    "plt.plot(t,omg_4,'y*',label='$T^{(4)}$')\n",
    "plt.plot(t,omg_rk,'b_',label='$R-K$')\n",
    "plt.plot(t,y,'r--',label='exacta')\n",
    "plt.legend(loc='lower right', shadow=True, frameon = False , fontsize='x-large')"
   ]
  },
  {
   "cell_type": "code",
   "execution_count": null,
   "metadata": {},
   "outputs": [],
   "source": []
  },
  {
   "cell_type": "code",
   "execution_count": null,
   "metadata": {},
   "outputs": [],
   "source": []
  },
  {
   "cell_type": "code",
   "execution_count": null,
   "metadata": {},
   "outputs": [],
   "source": []
  }
 ],
 "metadata": {
  "kernelspec": {
   "display_name": "Python 3",
   "language": "python",
   "name": "python3"
  },
  "language_info": {
   "codemirror_mode": {
    "name": "ipython",
    "version": 3
   },
   "file_extension": ".py",
   "mimetype": "text/x-python",
   "name": "python",
   "nbconvert_exporter": "python",
   "pygments_lexer": "ipython3",
   "version": "3.7.3"
  }
 },
 "nbformat": 4,
 "nbformat_minor": 2
}
